{
 "cells": [
  {
   "cell_type": "markdown",
   "metadata": {},
   "source": [
    "#  <center> <u>Übung:</u> Pandas Indexing"
   ]
  },
  {
   "cell_type": "markdown",
   "metadata": {},
   "source": [
    "### 1) (L) Importiere `Pandas`"
   ]
  },
  {
   "cell_type": "code",
   "execution_count": 1,
   "metadata": {},
   "outputs": [],
   "source": [
    "import pandas as pd\n",
    "pd.set_option('display.max_columns', None)"
   ]
  },
  {
   "cell_type": "markdown",
   "metadata": {},
   "source": [
    "***"
   ]
  },
  {
   "cell_type": "markdown",
   "metadata": {},
   "source": [
    "### 2) (L) Lade den Datensatz von `uebung/cars.csv` und lass dir den `Kopf` ausgeben"
   ]
  },
  {
   "cell_type": "markdown",
   "metadata": {},
   "source": [
    "Falls bei dir eine Spalte namens `Unnamed: 0` erscheint, verwende diese als neuen Index"
   ]
  },
  {
   "cell_type": "code",
   "execution_count": 2,
   "metadata": {},
   "outputs": [
    {
     "data": {
      "text/html": [
       "<div>\n",
       "<style scoped>\n",
       "    .dataframe tbody tr th:only-of-type {\n",
       "        vertical-align: middle;\n",
       "    }\n",
       "\n",
       "    .dataframe tbody tr th {\n",
       "        vertical-align: top;\n",
       "    }\n",
       "\n",
       "    .dataframe thead th {\n",
       "        text-align: right;\n",
       "    }\n",
       "</style>\n",
       "<table border=\"1\" class=\"dataframe\">\n",
       "  <thead>\n",
       "    <tr style=\"text-align: right;\">\n",
       "      <th></th>\n",
       "      <th>marke</th>\n",
       "      <th>modell</th>\n",
       "      <th>preis</th>\n",
       "      <th>kilometer</th>\n",
       "      <th>erstzulassung</th>\n",
       "      <th>kraftstoffart</th>\n",
       "      <th>getriebe</th>\n",
       "      <th>leistung</th>\n",
       "      <th>hubraum</th>\n",
       "      <th>hu</th>\n",
       "      <th>plz</th>\n",
       "      <th>farbe</th>\n",
       "      <th>anzahlderFahrzeughalter</th>\n",
       "      <th>kategorie</th>\n",
       "      <th>anzahlSitzplaetze</th>\n",
       "      <th>anzahlderTueren</th>\n",
       "      <th>schadstoffklasse</th>\n",
       "      <th>umweltplakette</th>\n",
       "      <th>klimatisierung</th>\n",
       "      <th>einparkhilfe</th>\n",
       "      <th>airbags</th>\n",
       "      <th>innenausstattung</th>\n",
       "      <th>ausstattung</th>\n",
       "      <th>Unnamed: 23</th>\n",
       "    </tr>\n",
       "  </thead>\n",
       "  <tbody>\n",
       "    <tr>\n",
       "      <th>0</th>\n",
       "      <td>Volkswagen</td>\n",
       "      <td>Golf</td>\n",
       "      <td>9.797 €</td>\n",
       "      <td>79.449 km</td>\n",
       "      <td>04/2011</td>\n",
       "      <td>Benzin</td>\n",
       "      <td>Schaltgetriebe</td>\n",
       "      <td>63 kW (86 PS)</td>\n",
       "      <td>1.197 cm³</td>\n",
       "      <td>Neu</td>\n",
       "      <td>4720.0</td>\n",
       "      <td>Weiß</td>\n",
       "      <td>NaN</td>\n",
       "      <td>Limousine</td>\n",
       "      <td>5.0</td>\n",
       "      <td>4/5</td>\n",
       "      <td>Euro5</td>\n",
       "      <td>4 (Grün)</td>\n",
       "      <td>Klimaautomatik</td>\n",
       "      <td>Vorne, Hinten, Selbstlenkende Systeme</td>\n",
       "      <td>Front-, Seiten- und weitere Airbags</td>\n",
       "      <td>Alcantara, Schwarz</td>\n",
       "      <td>ABS,Alarmanlage,Armlehne,Bordcomputer,CD-Spiel...</td>\n",
       "      <td>NaN</td>\n",
       "    </tr>\n",
       "    <tr>\n",
       "      <th>1</th>\n",
       "      <td>Volkswagen</td>\n",
       "      <td>Golf</td>\n",
       "      <td>13.890 €</td>\n",
       "      <td>76.486 km</td>\n",
       "      <td>01/2015</td>\n",
       "      <td>Benzin, E10-geeignet</td>\n",
       "      <td>Schaltgetriebe</td>\n",
       "      <td>92 kW (125 PS)</td>\n",
       "      <td>1.395 cm³</td>\n",
       "      <td>Neu</td>\n",
       "      <td>13088.0</td>\n",
       "      <td>Schwarz Metallic</td>\n",
       "      <td>2.0</td>\n",
       "      <td>Limousine</td>\n",
       "      <td>5.0</td>\n",
       "      <td>4/5</td>\n",
       "      <td>Euro6</td>\n",
       "      <td>4 (Grün)</td>\n",
       "      <td>2-Zonen-Klimaautomatik</td>\n",
       "      <td>Hinten</td>\n",
       "      <td>Front-, Seiten- und weitere Airbags</td>\n",
       "      <td>Stoff, Schwarz</td>\n",
       "      <td>ABS,Ambiente-Beleuchtung,Armlehne,Berganfahras...</td>\n",
       "      <td>NaN</td>\n",
       "    </tr>\n",
       "    <tr>\n",
       "      <th>2</th>\n",
       "      <td>Mercedes-Benz</td>\n",
       "      <td>SLK 300</td>\n",
       "      <td>19.990 €</td>\n",
       "      <td>84.000 km</td>\n",
       "      <td>07/2009</td>\n",
       "      <td>Benzin</td>\n",
       "      <td>Automatik</td>\n",
       "      <td>170 kW (231 PS)</td>\n",
       "      <td>2.997 cm³</td>\n",
       "      <td>08/2023</td>\n",
       "      <td>42285.0</td>\n",
       "      <td>Schwarz Metallic</td>\n",
       "      <td>3.0</td>\n",
       "      <td>Cabrio / Roadster</td>\n",
       "      <td>2.0</td>\n",
       "      <td>2/3</td>\n",
       "      <td>Euro5</td>\n",
       "      <td>4 (Grün)</td>\n",
       "      <td>Klimaautomatik</td>\n",
       "      <td>Vorne, Hinten</td>\n",
       "      <td>Front- und Seiten-Airbags</td>\n",
       "      <td>Vollleder, Schwarz</td>\n",
       "      <td>ABS,Armlehne,Berganfahrassistent,Bi-Xenon Sche...</td>\n",
       "      <td>NaN</td>\n",
       "    </tr>\n",
       "    <tr>\n",
       "      <th>3</th>\n",
       "      <td>Mercedes-Benz</td>\n",
       "      <td>SLK 350</td>\n",
       "      <td>19.990 €</td>\n",
       "      <td>84.000 km</td>\n",
       "      <td>07/2009</td>\n",
       "      <td>Benzin</td>\n",
       "      <td>Automatik</td>\n",
       "      <td>170 kW (231 PS)</td>\n",
       "      <td>2.997 cm³</td>\n",
       "      <td>08/2023</td>\n",
       "      <td>42285.0</td>\n",
       "      <td>Schwarz Metallic</td>\n",
       "      <td>3.0</td>\n",
       "      <td>Cabrio / Roadster</td>\n",
       "      <td>2.0</td>\n",
       "      <td>2/3</td>\n",
       "      <td>Euro5</td>\n",
       "      <td>4 (Grün)</td>\n",
       "      <td>Klimaautomatik</td>\n",
       "      <td>Vorne, Hinten</td>\n",
       "      <td>Front- und Seiten-Airbags</td>\n",
       "      <td>Vollleder, Schwarz</td>\n",
       "      <td>ABS,Armlehne,Berganfahrassistent,Bi-Xenon Sche...</td>\n",
       "      <td>NaN</td>\n",
       "    </tr>\n",
       "    <tr>\n",
       "      <th>4</th>\n",
       "      <td>Mercedes-Benz</td>\n",
       "      <td>A 220</td>\n",
       "      <td>17.450 €</td>\n",
       "      <td>109.252 km</td>\n",
       "      <td>12/2012</td>\n",
       "      <td>Diesel</td>\n",
       "      <td>Automatik</td>\n",
       "      <td>125 kW (170 PS)</td>\n",
       "      <td>2.143 cm³</td>\n",
       "      <td>Neu</td>\n",
       "      <td>53879.0</td>\n",
       "      <td>Silber Metallic</td>\n",
       "      <td>2.0</td>\n",
       "      <td>Limousine</td>\n",
       "      <td>5.0</td>\n",
       "      <td>4/5</td>\n",
       "      <td>Euro6</td>\n",
       "      <td>4 (Grün)</td>\n",
       "      <td>Klimaanlage</td>\n",
       "      <td>Vorne, Hinten, Kamera, Selbstlenkende Systeme</td>\n",
       "      <td>Front-, Seiten- und weitere Airbags</td>\n",
       "      <td>Stoff, Schwarz</td>\n",
       "      <td>ABS,Abstandswarner,Armlehne,Berganfahrassisten...</td>\n",
       "      <td>NaN</td>\n",
       "    </tr>\n",
       "  </tbody>\n",
       "</table>\n",
       "</div>"
      ],
      "text/plain": [
       "           marke   modell     preis   kilometer erstzulassung  \\\n",
       "0     Volkswagen     Golf   9.797 €   79.449 km       04/2011   \n",
       "1     Volkswagen     Golf  13.890 €   76.486 km       01/2015   \n",
       "2  Mercedes-Benz  SLK 300  19.990 €   84.000 km       07/2009   \n",
       "3  Mercedes-Benz  SLK 350  19.990 €   84.000 km       07/2009   \n",
       "4  Mercedes-Benz    A 220  17.450 €  109.252 km       12/2012   \n",
       "\n",
       "          kraftstoffart        getriebe         leistung    hubraum       hu  \\\n",
       "0                Benzin  Schaltgetriebe    63 kW (86 PS)  1.197 cm³      Neu   \n",
       "1  Benzin, E10-geeignet  Schaltgetriebe   92 kW (125 PS)  1.395 cm³      Neu   \n",
       "2                Benzin       Automatik  170 kW (231 PS)  2.997 cm³  08/2023   \n",
       "3                Benzin       Automatik  170 kW (231 PS)  2.997 cm³  08/2023   \n",
       "4                Diesel       Automatik  125 kW (170 PS)  2.143 cm³      Neu   \n",
       "\n",
       "       plz             farbe  anzahlderFahrzeughalter          kategorie  \\\n",
       "0   4720.0              Weiß                      NaN          Limousine   \n",
       "1  13088.0  Schwarz Metallic                      2.0          Limousine   \n",
       "2  42285.0  Schwarz Metallic                      3.0  Cabrio / Roadster   \n",
       "3  42285.0  Schwarz Metallic                      3.0  Cabrio / Roadster   \n",
       "4  53879.0   Silber Metallic                      2.0          Limousine   \n",
       "\n",
       "   anzahlSitzplaetze anzahlderTueren schadstoffklasse umweltplakette  \\\n",
       "0                5.0             4/5            Euro5       4 (Grün)   \n",
       "1                5.0             4/5            Euro6       4 (Grün)   \n",
       "2                2.0             2/3            Euro5       4 (Grün)   \n",
       "3                2.0             2/3            Euro5       4 (Grün)   \n",
       "4                5.0             4/5            Euro6       4 (Grün)   \n",
       "\n",
       "           klimatisierung                                   einparkhilfe  \\\n",
       "0          Klimaautomatik          Vorne, Hinten, Selbstlenkende Systeme   \n",
       "1  2-Zonen-Klimaautomatik                                         Hinten   \n",
       "2          Klimaautomatik                                  Vorne, Hinten   \n",
       "3          Klimaautomatik                                  Vorne, Hinten   \n",
       "4             Klimaanlage  Vorne, Hinten, Kamera, Selbstlenkende Systeme   \n",
       "\n",
       "                               airbags    innenausstattung  \\\n",
       "0  Front-, Seiten- und weitere Airbags  Alcantara, Schwarz   \n",
       "1  Front-, Seiten- und weitere Airbags      Stoff, Schwarz   \n",
       "2            Front- und Seiten-Airbags  Vollleder, Schwarz   \n",
       "3            Front- und Seiten-Airbags  Vollleder, Schwarz   \n",
       "4  Front-, Seiten- und weitere Airbags      Stoff, Schwarz   \n",
       "\n",
       "                                         ausstattung  Unnamed: 23  \n",
       "0  ABS,Alarmanlage,Armlehne,Bordcomputer,CD-Spiel...          NaN  \n",
       "1  ABS,Ambiente-Beleuchtung,Armlehne,Berganfahras...          NaN  \n",
       "2  ABS,Armlehne,Berganfahrassistent,Bi-Xenon Sche...          NaN  \n",
       "3  ABS,Armlehne,Berganfahrassistent,Bi-Xenon Sche...          NaN  \n",
       "4  ABS,Abstandswarner,Armlehne,Berganfahrassisten...          NaN  "
      ]
     },
     "execution_count": 2,
     "metadata": {},
     "output_type": "execute_result"
    }
   ],
   "source": [
    "df = pd.read_csv('./uebung/cars.csv', index_col=0)\n",
    "df.head()"
   ]
  },
  {
   "cell_type": "markdown",
   "metadata": {},
   "source": [
    "***"
   ]
  },
  {
   "cell_type": "markdown",
   "metadata": {},
   "source": [
    "### 3) (L) Welche `Shape` hat das `DataFrame` "
   ]
  },
  {
   "cell_type": "code",
   "execution_count": 3,
   "metadata": {},
   "outputs": [
    {
     "data": {
      "text/plain": [
       "(10000, 24)"
      ]
     },
     "execution_count": 3,
     "metadata": {},
     "output_type": "execute_result"
    }
   ],
   "source": [
    "df.shape"
   ]
  },
  {
   "cell_type": "markdown",
   "metadata": {},
   "source": [
    "***"
   ]
  },
  {
   "cell_type": "markdown",
   "metadata": {},
   "source": [
    "### 4) (L) Lasse dir die `Info` zu dem `DataFrame` ausgeben"
   ]
  },
  {
   "cell_type": "code",
   "execution_count": 4,
   "metadata": {},
   "outputs": [
    {
     "name": "stdout",
     "output_type": "stream",
     "text": [
      "<class 'pandas.core.frame.DataFrame'>\n",
      "Int64Index: 10000 entries, 0 to 9999\n",
      "Data columns (total 24 columns):\n",
      " #   Column                   Non-Null Count  Dtype  \n",
      "---  ------                   --------------  -----  \n",
      " 0   marke                    9541 non-null   object \n",
      " 1   modell                   9541 non-null   object \n",
      " 2   preis                    9523 non-null   object \n",
      " 3   kilometer                9501 non-null   object \n",
      " 4   erstzulassung            9466 non-null   object \n",
      " 5   kraftstoffart            9523 non-null   object \n",
      " 6   getriebe                 9522 non-null   object \n",
      " 7   leistung                 9523 non-null   object \n",
      " 8   hubraum                  9494 non-null   object \n",
      " 9   hu                       8530 non-null   object \n",
      " 10  plz                      9541 non-null   float64\n",
      " 11  farbe                    9517 non-null   object \n",
      " 12  anzahlderFahrzeughalter  7927 non-null   float64\n",
      " 13  kategorie                9523 non-null   object \n",
      " 14  anzahlSitzplaetze        9508 non-null   float64\n",
      " 15  anzahlderTueren          9520 non-null   object \n",
      " 16  schadstoffklasse         8589 non-null   object \n",
      " 17  umweltplakette           9014 non-null   object \n",
      " 18  klimatisierung           9087 non-null   object \n",
      " 19  einparkhilfe             9444 non-null   object \n",
      " 20  airbags                  9500 non-null   object \n",
      " 21  innenausstattung         9521 non-null   object \n",
      " 22  ausstattung              9522 non-null   object \n",
      " 23  Unnamed: 23              0 non-null      float64\n",
      "dtypes: float64(4), object(20)\n",
      "memory usage: 1.9+ MB\n"
     ]
    }
   ],
   "source": [
    "df.info()"
   ]
  },
  {
   "cell_type": "markdown",
   "metadata": {},
   "source": [
    "***"
   ]
  },
  {
   "cell_type": "markdown",
   "metadata": {},
   "source": [
    "### 5) (M) Wieviele Türen hat ein Auto durschnittlich?"
   ]
  },
  {
   "cell_type": "code",
   "execution_count": 6,
   "metadata": {},
   "outputs": [
    {
     "data": {
      "text/plain": [
       "4.717501051745899"
      ]
     },
     "execution_count": 6,
     "metadata": {},
     "output_type": "execute_result"
    }
   ],
   "source": [
    "df.anzahlSitzplaetze.mean()"
   ]
  },
  {
   "cell_type": "markdown",
   "metadata": {},
   "source": [
    "***"
   ]
  },
  {
   "cell_type": "markdown",
   "metadata": {},
   "source": [
    "### 6) (M) Lasse dir die Anzahl der Nicht-Leeren-Zeilen (not `Nan`) ausgeben"
   ]
  },
  {
   "cell_type": "code",
   "execution_count": 7,
   "metadata": {},
   "outputs": [
    {
     "data": {
      "text/plain": [
       "marke                      9541\n",
       "modell                     9541\n",
       "preis                      9523\n",
       "kilometer                  9501\n",
       "erstzulassung              9466\n",
       "kraftstoffart              9523\n",
       "getriebe                   9522\n",
       "leistung                   9523\n",
       "hubraum                    9494\n",
       "hu                         8530\n",
       "plz                        9541\n",
       "farbe                      9517\n",
       "anzahlderFahrzeughalter    7927\n",
       "kategorie                  9523\n",
       "anzahlSitzplaetze          9508\n",
       "anzahlderTueren            9520\n",
       "schadstoffklasse           8589\n",
       "umweltplakette             9014\n",
       "klimatisierung             9087\n",
       "einparkhilfe               9444\n",
       "airbags                    9500\n",
       "innenausstattung           9521\n",
       "ausstattung                9522\n",
       "Unnamed: 23                   0\n",
       "dtype: int64"
      ]
     },
     "execution_count": 7,
     "metadata": {},
     "output_type": "execute_result"
    }
   ],
   "source": [
    "df.count(0)"
   ]
  },
  {
   "cell_type": "markdown",
   "metadata": {},
   "source": [
    "***"
   ]
  },
  {
   "cell_type": "markdown",
   "metadata": {},
   "source": [
    "### 7) (M) Kreiere eine Liste aller einzigartigen Marken"
   ]
  },
  {
   "cell_type": "code",
   "execution_count": 8,
   "metadata": {},
   "outputs": [
    {
     "data": {
      "text/plain": [
       "array(['Volkswagen', 'Mercedes-Benz', 'BMW', nan, 'Audi', 'Jeep', 'Ford',\n",
       "       'Dodge', 'Seat', 'Suzuki', 'Opel', 'Porsche', 'Volvo', 'Hyundai',\n",
       "       'Land Rover', 'Lancia', 'Smart', 'Skoda', 'Renault', 'Mazda',\n",
       "       'Rover', 'Nissan', 'Cupra', 'Morgan', 'Rolls-Royce', 'Peugeot',\n",
       "       'Ferrari', 'Kia', 'Iveco', 'Chevrolet', 'Dacia', 'Subaru',\n",
       "       'Ligier', 'MINI', 'Corvette', 'Alfa Romeo', 'Jaguar', 'Fiat',\n",
       "       'Isuzu', 'Toyota'], dtype=object)"
      ]
     },
     "execution_count": 8,
     "metadata": {},
     "output_type": "execute_result"
    }
   ],
   "source": [
    "df.marke.unique()"
   ]
  },
  {
   "cell_type": "markdown",
   "metadata": {},
   "source": [
    "***"
   ]
  },
  {
   "cell_type": "markdown",
   "metadata": {},
   "source": [
    "### 8) (M) Lass dir die  `Anzahl der Autos` pro `Marke` ausgeben"
   ]
  },
  {
   "cell_type": "code",
   "execution_count": 9,
   "metadata": {},
   "outputs": [
    {
     "data": {
      "text/plain": [
       "Volkswagen       6307\n",
       "Mercedes-Benz    1081\n",
       "Audi              999\n",
       "BMW               942\n",
       "Ford               45\n",
       "Skoda              24\n",
       "Seat               22\n",
       "Opel               19\n",
       "Volvo              14\n",
       "Kia                 9\n",
       "Porsche             8\n",
       "Jeep                8\n",
       "Cupra               7\n",
       "Smart               6\n",
       "MINI                5\n",
       "Subaru              4\n",
       "Mazda               4\n",
       "Renault             3\n",
       "Peugeot             3\n",
       "Suzuki              3\n",
       "Dodge               2\n",
       "Ferrari             2\n",
       "Hyundai             2\n",
       "Dacia               2\n",
       "Nissan              2\n",
       "Land Rover          2\n",
       "Alfa Romeo          2\n",
       "Chevrolet           2\n",
       "Iveco               2\n",
       "Jaguar              1\n",
       "Morgan              1\n",
       "Toyota              1\n",
       "Fiat                1\n",
       "Ligier              1\n",
       "Lancia              1\n",
       "Isuzu               1\n",
       "Rover               1\n",
       "Corvette            1\n",
       "Rolls-Royce         1\n",
       "Name: marke, dtype: int64"
      ]
     },
     "execution_count": 9,
     "metadata": {},
     "output_type": "execute_result"
    }
   ],
   "source": [
    "df.marke.value_counts()"
   ]
  },
  {
   "cell_type": "markdown",
   "metadata": {},
   "source": [
    "***"
   ]
  },
  {
   "cell_type": "markdown",
   "metadata": {},
   "source": [
    "### 9) (S) Lass dir alle `Modelle` und deren `Anzahl` der Marke `BMW` ausgeben\n",
    "#### EINMAL mit dem Bool-Operator und einmal mit der Query-Funktion"
   ]
  },
  {
   "cell_type": "markdown",
   "metadata": {},
   "source": [
    "#### 9.1 Mit bool-Operator"
   ]
  },
  {
   "cell_type": "code",
   "execution_count": 13,
   "metadata": {},
   "outputs": [
    {
     "data": {
      "text/plain": [
       "320                  448\n",
       "530                  431\n",
       "118                    7\n",
       "420                    4\n",
       "545                    3\n",
       "330                    3\n",
       "520                    3\n",
       "X2                     3\n",
       "325                    3\n",
       "218                    2\n",
       "120                    2\n",
       "Z4                     2\n",
       "M3                     2\n",
       "428                    1\n",
       "316                    1\n",
       "430                    1\n",
       "iX                     1\n",
       "525                    1\n",
       "X5                     1\n",
       "M135                   1\n",
       "528                    1\n",
       "X1                     1\n",
       "X6                     1\n",
       "435 Gran Coupé         1\n",
       "640 Gran Coupé         1\n",
       "740                    1\n",
       "330 Gran Turismo       1\n",
       "440                    1\n",
       "220                    1\n",
       "550                    1\n",
       "125                    1\n",
       "328                    1\n",
       "335                    1\n",
       "218 Gran Tourer        1\n",
       "218 Active Tourer      1\n",
       "318                    1\n",
       "650 Gran Coupé         1\n",
       "M4                     1\n",
       "M550                   1\n",
       "116                    1\n",
       "X3                     1\n",
       "216                    1\n",
       "Name: modell, dtype: int64"
      ]
     },
     "execution_count": 13,
     "metadata": {},
     "output_type": "execute_result"
    }
   ],
   "source": [
    "df[df['marke'] == 'BMW'].modell.value_counts()"
   ]
  },
  {
   "cell_type": "markdown",
   "metadata": {},
   "source": [
    "#### 9.2 Mit Query-Funktion"
   ]
  },
  {
   "cell_type": "code",
   "execution_count": 14,
   "metadata": {},
   "outputs": [
    {
     "data": {
      "text/plain": [
       "320                  448\n",
       "530                  431\n",
       "118                    7\n",
       "420                    4\n",
       "545                    3\n",
       "330                    3\n",
       "520                    3\n",
       "X2                     3\n",
       "325                    3\n",
       "218                    2\n",
       "120                    2\n",
       "Z4                     2\n",
       "M3                     2\n",
       "428                    1\n",
       "316                    1\n",
       "430                    1\n",
       "iX                     1\n",
       "525                    1\n",
       "X5                     1\n",
       "M135                   1\n",
       "528                    1\n",
       "X1                     1\n",
       "X6                     1\n",
       "435 Gran Coupé         1\n",
       "640 Gran Coupé         1\n",
       "740                    1\n",
       "330 Gran Turismo       1\n",
       "440                    1\n",
       "220                    1\n",
       "550                    1\n",
       "125                    1\n",
       "328                    1\n",
       "335                    1\n",
       "218 Gran Tourer        1\n",
       "218 Active Tourer      1\n",
       "318                    1\n",
       "650 Gran Coupé         1\n",
       "M4                     1\n",
       "M550                   1\n",
       "116                    1\n",
       "X3                     1\n",
       "216                    1\n",
       "Name: modell, dtype: int64"
      ]
     },
     "execution_count": 14,
     "metadata": {},
     "output_type": "execute_result"
    }
   ],
   "source": [
    "df.query('marke == \"BMW\"').modell.value_counts()"
   ]
  }
 ],
 "metadata": {
  "kernelspec": {
   "display_name": "Python 3",
   "language": "python",
   "name": "python3"
  },
  "language_info": {
   "codemirror_mode": {
    "name": "ipython",
    "version": 3
   },
   "file_extension": ".py",
   "mimetype": "text/x-python",
   "name": "python",
   "nbconvert_exporter": "python",
   "pygments_lexer": "ipython3",
   "version": "3.7.6"
  }
 },
 "nbformat": 4,
 "nbformat_minor": 4
}
