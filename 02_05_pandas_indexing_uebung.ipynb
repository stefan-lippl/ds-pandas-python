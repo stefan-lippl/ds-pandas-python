{
 "cells": [
  {
   "cell_type": "markdown",
   "metadata": {},
   "source": [
    "#  <center> <u>Übung:</u> Pandas Indexing"
   ]
  },
  {
   "cell_type": "markdown",
   "metadata": {},
   "source": [
    "### 1) (L) Importiere `Pandas`"
   ]
  },
  {
   "cell_type": "code",
   "execution_count": 14,
   "metadata": {},
   "outputs": [],
   "source": [
    "import pandas as pd"
   ]
  },
  {
   "cell_type": "markdown",
   "metadata": {},
   "source": [
    "---"
   ]
  },
  {
   "cell_type": "markdown",
   "metadata": {},
   "source": [
    "### 2) (L) Lade den Datensatz von `uebung/ue2/cars.csv` und lass dir den `Kopf` ausgeben"
   ]
  },
  {
   "cell_type": "markdown",
   "metadata": {},
   "source": [
    "Falls bei dir eine Spalte namens `Unnamed: 0` erscheint, verwende diese als neuen Index"
   ]
  },
  {
   "cell_type": "code",
   "execution_count": 15,
   "metadata": {},
   "outputs": [
    {
     "data": {
      "text/html": [
       "<div>\n",
       "<style scoped>\n",
       "    .dataframe tbody tr th:only-of-type {\n",
       "        vertical-align: middle;\n",
       "    }\n",
       "\n",
       "    .dataframe tbody tr th {\n",
       "        vertical-align: top;\n",
       "    }\n",
       "\n",
       "    .dataframe thead th {\n",
       "        text-align: right;\n",
       "    }\n",
       "</style>\n",
       "<table border=\"1\" class=\"dataframe\">\n",
       "  <thead>\n",
       "    <tr style=\"text-align: right;\">\n",
       "      <th></th>\n",
       "      <th>marke</th>\n",
       "      <th>modell</th>\n",
       "      <th>preis</th>\n",
       "      <th>kilometer</th>\n",
       "      <th>erstzulassung</th>\n",
       "      <th>kraftstoffart</th>\n",
       "      <th>getriebe</th>\n",
       "      <th>leistung</th>\n",
       "      <th>hubraum</th>\n",
       "      <th>hu</th>\n",
       "      <th>...</th>\n",
       "      <th>anzahlSitzplaetze</th>\n",
       "      <th>anzahlderTueren</th>\n",
       "      <th>schadstoffklasse</th>\n",
       "      <th>umweltplakette</th>\n",
       "      <th>klimatisierung</th>\n",
       "      <th>einparkhilfe</th>\n",
       "      <th>airbags</th>\n",
       "      <th>innenausstattung</th>\n",
       "      <th>ausstattung</th>\n",
       "      <th>Unnamed: 23</th>\n",
       "    </tr>\n",
       "  </thead>\n",
       "  <tbody>\n",
       "    <tr>\n",
       "      <th>0</th>\n",
       "      <td>Volkswagen</td>\n",
       "      <td>Golf</td>\n",
       "      <td>9.797 €</td>\n",
       "      <td>79.449 km</td>\n",
       "      <td>04/2011</td>\n",
       "      <td>Benzin</td>\n",
       "      <td>Schaltgetriebe</td>\n",
       "      <td>63 kW (86 PS)</td>\n",
       "      <td>1.197 cm³</td>\n",
       "      <td>Neu</td>\n",
       "      <td>...</td>\n",
       "      <td>5.0</td>\n",
       "      <td>4/5</td>\n",
       "      <td>Euro5</td>\n",
       "      <td>4 (Grün)</td>\n",
       "      <td>Klimaautomatik</td>\n",
       "      <td>Vorne, Hinten, Selbstlenkende Systeme</td>\n",
       "      <td>Front-, Seiten- und weitere Airbags</td>\n",
       "      <td>Alcantara, Schwarz</td>\n",
       "      <td>ABS,Alarmanlage,Armlehne,Bordcomputer,CD-Spiel...</td>\n",
       "      <td>NaN</td>\n",
       "    </tr>\n",
       "    <tr>\n",
       "      <th>1</th>\n",
       "      <td>Volkswagen</td>\n",
       "      <td>Golf</td>\n",
       "      <td>13.890 €</td>\n",
       "      <td>76.486 km</td>\n",
       "      <td>01/2015</td>\n",
       "      <td>Benzin, E10-geeignet</td>\n",
       "      <td>Schaltgetriebe</td>\n",
       "      <td>92 kW (125 PS)</td>\n",
       "      <td>1.395 cm³</td>\n",
       "      <td>Neu</td>\n",
       "      <td>...</td>\n",
       "      <td>5.0</td>\n",
       "      <td>4/5</td>\n",
       "      <td>Euro6</td>\n",
       "      <td>4 (Grün)</td>\n",
       "      <td>2-Zonen-Klimaautomatik</td>\n",
       "      <td>Hinten</td>\n",
       "      <td>Front-, Seiten- und weitere Airbags</td>\n",
       "      <td>Stoff, Schwarz</td>\n",
       "      <td>ABS,Ambiente-Beleuchtung,Armlehne,Berganfahras...</td>\n",
       "      <td>NaN</td>\n",
       "    </tr>\n",
       "    <tr>\n",
       "      <th>2</th>\n",
       "      <td>Mercedes-Benz</td>\n",
       "      <td>SLK 300</td>\n",
       "      <td>19.990 €</td>\n",
       "      <td>84.000 km</td>\n",
       "      <td>07/2009</td>\n",
       "      <td>Benzin</td>\n",
       "      <td>Automatik</td>\n",
       "      <td>170 kW (231 PS)</td>\n",
       "      <td>2.997 cm³</td>\n",
       "      <td>08/2023</td>\n",
       "      <td>...</td>\n",
       "      <td>2.0</td>\n",
       "      <td>2/3</td>\n",
       "      <td>Euro5</td>\n",
       "      <td>4 (Grün)</td>\n",
       "      <td>Klimaautomatik</td>\n",
       "      <td>Vorne, Hinten</td>\n",
       "      <td>Front- und Seiten-Airbags</td>\n",
       "      <td>Vollleder, Schwarz</td>\n",
       "      <td>ABS,Armlehne,Berganfahrassistent,Bi-Xenon Sche...</td>\n",
       "      <td>NaN</td>\n",
       "    </tr>\n",
       "    <tr>\n",
       "      <th>3</th>\n",
       "      <td>Mercedes-Benz</td>\n",
       "      <td>SLK 350</td>\n",
       "      <td>19.990 €</td>\n",
       "      <td>84.000 km</td>\n",
       "      <td>07/2009</td>\n",
       "      <td>Benzin</td>\n",
       "      <td>Automatik</td>\n",
       "      <td>170 kW (231 PS)</td>\n",
       "      <td>2.997 cm³</td>\n",
       "      <td>08/2023</td>\n",
       "      <td>...</td>\n",
       "      <td>2.0</td>\n",
       "      <td>2/3</td>\n",
       "      <td>Euro5</td>\n",
       "      <td>4 (Grün)</td>\n",
       "      <td>Klimaautomatik</td>\n",
       "      <td>Vorne, Hinten</td>\n",
       "      <td>Front- und Seiten-Airbags</td>\n",
       "      <td>Vollleder, Schwarz</td>\n",
       "      <td>ABS,Armlehne,Berganfahrassistent,Bi-Xenon Sche...</td>\n",
       "      <td>NaN</td>\n",
       "    </tr>\n",
       "    <tr>\n",
       "      <th>4</th>\n",
       "      <td>Mercedes-Benz</td>\n",
       "      <td>A 220</td>\n",
       "      <td>17.450 €</td>\n",
       "      <td>109.252 km</td>\n",
       "      <td>12/2012</td>\n",
       "      <td>Diesel</td>\n",
       "      <td>Automatik</td>\n",
       "      <td>125 kW (170 PS)</td>\n",
       "      <td>2.143 cm³</td>\n",
       "      <td>Neu</td>\n",
       "      <td>...</td>\n",
       "      <td>5.0</td>\n",
       "      <td>4/5</td>\n",
       "      <td>Euro6</td>\n",
       "      <td>4 (Grün)</td>\n",
       "      <td>Klimaanlage</td>\n",
       "      <td>Vorne, Hinten, Kamera, Selbstlenkende Systeme</td>\n",
       "      <td>Front-, Seiten- und weitere Airbags</td>\n",
       "      <td>Stoff, Schwarz</td>\n",
       "      <td>ABS,Abstandswarner,Armlehne,Berganfahrassisten...</td>\n",
       "      <td>NaN</td>\n",
       "    </tr>\n",
       "  </tbody>\n",
       "</table>\n",
       "<p>5 rows × 24 columns</p>\n",
       "</div>"
      ],
      "text/plain": [
       "           marke   modell     preis   kilometer erstzulassung  \\\n",
       "0     Volkswagen     Golf   9.797 €   79.449 km       04/2011   \n",
       "1     Volkswagen     Golf  13.890 €   76.486 km       01/2015   \n",
       "2  Mercedes-Benz  SLK 300  19.990 €   84.000 km       07/2009   \n",
       "3  Mercedes-Benz  SLK 350  19.990 €   84.000 km       07/2009   \n",
       "4  Mercedes-Benz    A 220  17.450 €  109.252 km       12/2012   \n",
       "\n",
       "          kraftstoffart        getriebe         leistung    hubraum       hu  \\\n",
       "0                Benzin  Schaltgetriebe    63 kW (86 PS)  1.197 cm³      Neu   \n",
       "1  Benzin, E10-geeignet  Schaltgetriebe   92 kW (125 PS)  1.395 cm³      Neu   \n",
       "2                Benzin       Automatik  170 kW (231 PS)  2.997 cm³  08/2023   \n",
       "3                Benzin       Automatik  170 kW (231 PS)  2.997 cm³  08/2023   \n",
       "4                Diesel       Automatik  125 kW (170 PS)  2.143 cm³      Neu   \n",
       "\n",
       "   ...  anzahlSitzplaetze anzahlderTueren  schadstoffklasse umweltplakette  \\\n",
       "0  ...                5.0             4/5             Euro5       4 (Grün)   \n",
       "1  ...                5.0             4/5             Euro6       4 (Grün)   \n",
       "2  ...                2.0             2/3             Euro5       4 (Grün)   \n",
       "3  ...                2.0             2/3             Euro5       4 (Grün)   \n",
       "4  ...                5.0             4/5             Euro6       4 (Grün)   \n",
       "\n",
       "           klimatisierung                                   einparkhilfe  \\\n",
       "0          Klimaautomatik          Vorne, Hinten, Selbstlenkende Systeme   \n",
       "1  2-Zonen-Klimaautomatik                                         Hinten   \n",
       "2          Klimaautomatik                                  Vorne, Hinten   \n",
       "3          Klimaautomatik                                  Vorne, Hinten   \n",
       "4             Klimaanlage  Vorne, Hinten, Kamera, Selbstlenkende Systeme   \n",
       "\n",
       "                               airbags    innenausstattung  \\\n",
       "0  Front-, Seiten- und weitere Airbags  Alcantara, Schwarz   \n",
       "1  Front-, Seiten- und weitere Airbags      Stoff, Schwarz   \n",
       "2            Front- und Seiten-Airbags  Vollleder, Schwarz   \n",
       "3            Front- und Seiten-Airbags  Vollleder, Schwarz   \n",
       "4  Front-, Seiten- und weitere Airbags      Stoff, Schwarz   \n",
       "\n",
       "                                         ausstattung Unnamed: 23  \n",
       "0  ABS,Alarmanlage,Armlehne,Bordcomputer,CD-Spiel...         NaN  \n",
       "1  ABS,Ambiente-Beleuchtung,Armlehne,Berganfahras...         NaN  \n",
       "2  ABS,Armlehne,Berganfahrassistent,Bi-Xenon Sche...         NaN  \n",
       "3  ABS,Armlehne,Berganfahrassistent,Bi-Xenon Sche...         NaN  \n",
       "4  ABS,Abstandswarner,Armlehne,Berganfahrassisten...         NaN  \n",
       "\n",
       "[5 rows x 24 columns]"
      ]
     },
     "execution_count": 15,
     "metadata": {},
     "output_type": "execute_result"
    }
   ],
   "source": [
    "df = pd.read_csv('./uebung/ue2/cars.csv', index_col=0)\n",
    "df.head()"
   ]
  },
  {
   "cell_type": "markdown",
   "metadata": {},
   "source": [
    "---"
   ]
  },
  {
   "cell_type": "markdown",
   "metadata": {},
   "source": [
    "### 3) (S) Lass dir die Spalten `marke` und `modell` der `letzten 6 Autos` ausgeben"
   ]
  },
  {
   "cell_type": "code",
   "execution_count": 16,
   "metadata": {},
   "outputs": [
    {
     "data": {
      "text/html": [
       "<div>\n",
       "<style scoped>\n",
       "    .dataframe tbody tr th:only-of-type {\n",
       "        vertical-align: middle;\n",
       "    }\n",
       "\n",
       "    .dataframe tbody tr th {\n",
       "        vertical-align: top;\n",
       "    }\n",
       "\n",
       "    .dataframe thead th {\n",
       "        text-align: right;\n",
       "    }\n",
       "</style>\n",
       "<table border=\"1\" class=\"dataframe\">\n",
       "  <thead>\n",
       "    <tr style=\"text-align: right;\">\n",
       "      <th></th>\n",
       "      <th>marke</th>\n",
       "      <th>modell</th>\n",
       "    </tr>\n",
       "  </thead>\n",
       "  <tbody>\n",
       "    <tr>\n",
       "      <th>9994</th>\n",
       "      <td>Mercedes-Benz</td>\n",
       "      <td>E 350</td>\n",
       "    </tr>\n",
       "    <tr>\n",
       "      <th>9995</th>\n",
       "      <td>Volkswagen</td>\n",
       "      <td>Golf</td>\n",
       "    </tr>\n",
       "    <tr>\n",
       "      <th>9996</th>\n",
       "      <td>Audi</td>\n",
       "      <td>A4</td>\n",
       "    </tr>\n",
       "    <tr>\n",
       "      <th>9997</th>\n",
       "      <td>Volkswagen</td>\n",
       "      <td>Golf</td>\n",
       "    </tr>\n",
       "    <tr>\n",
       "      <th>9998</th>\n",
       "      <td>BMW</td>\n",
       "      <td>320</td>\n",
       "    </tr>\n",
       "    <tr>\n",
       "      <th>9999</th>\n",
       "      <td>Volkswagen</td>\n",
       "      <td>Golf</td>\n",
       "    </tr>\n",
       "  </tbody>\n",
       "</table>\n",
       "</div>"
      ],
      "text/plain": [
       "              marke modell\n",
       "9994  Mercedes-Benz  E 350\n",
       "9995     Volkswagen   Golf\n",
       "9996           Audi     A4\n",
       "9997     Volkswagen   Golf\n",
       "9998            BMW    320\n",
       "9999     Volkswagen   Golf"
      ]
     },
     "execution_count": 16,
     "metadata": {},
     "output_type": "execute_result"
    }
   ],
   "source": [
    "df.iloc[-6:,[0,1]]"
   ]
  },
  {
   "cell_type": "markdown",
   "metadata": {},
   "source": [
    "---"
   ]
  },
  {
   "cell_type": "markdown",
   "metadata": {},
   "source": [
    "### 4) (M) Welche `Marke` hat das Auto am `Index 512`?"
   ]
  },
  {
   "cell_type": "code",
   "execution_count": 27,
   "metadata": {},
   "outputs": [
    {
     "data": {
      "text/plain": [
       "'Volkswagen'"
      ]
     },
     "execution_count": 27,
     "metadata": {},
     "output_type": "execute_result"
    }
   ],
   "source": [
    "df.loc[512, 'marke']"
   ]
  },
  {
   "cell_type": "markdown",
   "metadata": {},
   "source": [
    "---"
   ]
  },
  {
   "cell_type": "markdown",
   "metadata": {},
   "source": [
    "### 5) (M) Wieviel `Euro` kostet das Auto am `Index 1024`?"
   ]
  },
  {
   "cell_type": "code",
   "execution_count": 32,
   "metadata": {},
   "outputs": [
    {
     "data": {
      "text/plain": [
       "'21.990 €'"
      ]
     },
     "execution_count": 32,
     "metadata": {},
     "output_type": "execute_result"
    }
   ],
   "source": [
    "df.loc[1024, 'preis']"
   ]
  },
  {
   "cell_type": "markdown",
   "metadata": {},
   "source": [
    "---"
   ]
  },
  {
   "cell_type": "markdown",
   "metadata": {},
   "source": [
    "### 6) (L) Überprüfe deine Abfragen auf deren Richtigkeit, indem du dir die `kompletten Einträge am Index 512 & 1024` ausgeben lässt"
   ]
  },
  {
   "cell_type": "code",
   "execution_count": 33,
   "metadata": {},
   "outputs": [
    {
     "data": {
      "text/plain": [
       "marke                                                             Volkswagen\n",
       "modell                                                                  Golf\n",
       "preis                                                               13.999 €\n",
       "kilometer                                                         112.333 km\n",
       "erstzulassung                                                        03/2014\n",
       "kraftstoffart                                                         Diesel\n",
       "getriebe                                                           Automatik\n",
       "leistung                                                     110 kW (150 PS)\n",
       "hubraum                                                            1.968 cm³\n",
       "hu                                                                   06/2022\n",
       "plz                                                                  85276.0\n",
       "farbe                                                          Grau Metallic\n",
       "anzahlderFahrzeughalter                                                  2.0\n",
       "kategorie                                                              Kombi\n",
       "anzahlSitzplaetze                                                        5.0\n",
       "anzahlderTueren                                                          4/5\n",
       "schadstoffklasse                                                       Euro5\n",
       "umweltplakette                                                      4 (Grün)\n",
       "klimatisierung                                        2-Zonen-Klimaautomatik\n",
       "einparkhilfe                                                   Vorne, Hinten\n",
       "airbags                                                        Fahrer-Airbag\n",
       "innenausstattung                                          Teilleder, Schwarz\n",
       "ausstattung                ABS,Armlehne,Berganfahrassistent,Bi-Xenon Sche...\n",
       "Unnamed: 23                                                              NaN\n",
       "Name: 512, dtype: object"
      ]
     },
     "execution_count": 33,
     "metadata": {},
     "output_type": "execute_result"
    }
   ],
   "source": [
    "df.iloc[512]"
   ]
  },
  {
   "cell_type": "code",
   "execution_count": 30,
   "metadata": {},
   "outputs": [
    {
     "data": {
      "text/plain": [
       "marke                                                                    BMW\n",
       "modell                                                                   530\n",
       "preis                                                               21.990 €\n",
       "kilometer                                                          91.812 km\n",
       "erstzulassung                                                        03/2012\n",
       "kraftstoffart                                                         Diesel\n",
       "getriebe                                                           Automatik\n",
       "leistung                                                     190 kW (258 PS)\n",
       "hubraum                                                            2.993 cm³\n",
       "hu                                                                       Neu\n",
       "plz                                                                  92546.0\n",
       "farbe                                                          Blau Metallic\n",
       "anzahlderFahrzeughalter                                                  2.0\n",
       "kategorie                                                          Limousine\n",
       "anzahlSitzplaetze                                                        5.0\n",
       "anzahlderTueren                                                          4/5\n",
       "schadstoffklasse                                                       Euro5\n",
       "umweltplakette                                                      4 (Grün)\n",
       "klimatisierung                                        2-Zonen-Klimaautomatik\n",
       "einparkhilfe                                                   Vorne, Hinten\n",
       "airbags                                  Front-, Seiten- und weitere Airbags\n",
       "innenausstattung                                          Vollleder, Schwarz\n",
       "ausstattung                ABS,Alarmanlage,Allradantrieb,Armlehne,Bi-Xeno...\n",
       "Unnamed: 23                                                              NaN\n",
       "Name: 1024, dtype: object"
      ]
     },
     "execution_count": 30,
     "metadata": {},
     "output_type": "execute_result"
    }
   ],
   "source": [
    "df.loc[1024]"
   ]
  }
 ],
 "metadata": {
  "kernelspec": {
   "display_name": "Python 3",
   "language": "python",
   "name": "python3"
  },
  "language_info": {
   "codemirror_mode": {
    "name": "ipython",
    "version": 3
   },
   "file_extension": ".py",
   "mimetype": "text/x-python",
   "name": "python",
   "nbconvert_exporter": "python",
   "pygments_lexer": "ipython3",
   "version": "3.7.6"
  }
 },
 "nbformat": 4,
 "nbformat_minor": 4
}
