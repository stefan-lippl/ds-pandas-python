{
 "cells": [
  {
   "cell_type": "markdown",
   "metadata": {},
   "source": [
    "#  <center> <u>Übung:</u> Pandas Selecting"
   ]
  },
  {
   "cell_type": "markdown",
   "metadata": {},
   "source": [
    "### 1) (L) Importiere `Pandas`"
   ]
  },
  {
   "cell_type": "code",
   "execution_count": 17,
   "metadata": {},
   "outputs": [],
   "source": [
    "import pandas as pd\n",
    "pd.set_option('display.max_columns', None)"
   ]
  },
  {
   "cell_type": "markdown",
   "metadata": {},
   "source": [
    "---"
   ]
  },
  {
   "cell_type": "markdown",
   "metadata": {},
   "source": [
    "### 2) (L) Lade den Datensatz von `uebung/cars.csv` und lass dir den `Kopf` ausgeben"
   ]
  },
  {
   "cell_type": "markdown",
   "metadata": {},
   "source": [
    "Falls bei dir eine Spalte namens `Unnamed: 0` erscheint, verwende diese als neuen Index"
   ]
  },
  {
   "cell_type": "code",
   "execution_count": 2,
   "metadata": {},
   "outputs": [
    {
     "data": {
      "text/html": [
       "<div>\n",
       "<style scoped>\n",
       "    .dataframe tbody tr th:only-of-type {\n",
       "        vertical-align: middle;\n",
       "    }\n",
       "\n",
       "    .dataframe tbody tr th {\n",
       "        vertical-align: top;\n",
       "    }\n",
       "\n",
       "    .dataframe thead th {\n",
       "        text-align: right;\n",
       "    }\n",
       "</style>\n",
       "<table border=\"1\" class=\"dataframe\">\n",
       "  <thead>\n",
       "    <tr style=\"text-align: right;\">\n",
       "      <th></th>\n",
       "      <th>marke</th>\n",
       "      <th>modell</th>\n",
       "      <th>preis</th>\n",
       "      <th>kilometer</th>\n",
       "      <th>erstzulassung</th>\n",
       "      <th>kraftstoffart</th>\n",
       "      <th>getriebe</th>\n",
       "      <th>leistung</th>\n",
       "      <th>hubraum</th>\n",
       "      <th>hu</th>\n",
       "      <th>plz</th>\n",
       "      <th>farbe</th>\n",
       "      <th>anzahlderFahrzeughalter</th>\n",
       "      <th>kategorie</th>\n",
       "      <th>anzahlSitzplaetze</th>\n",
       "      <th>anzahlderTueren</th>\n",
       "      <th>schadstoffklasse</th>\n",
       "      <th>umweltplakette</th>\n",
       "      <th>klimatisierung</th>\n",
       "      <th>einparkhilfe</th>\n",
       "      <th>airbags</th>\n",
       "      <th>innenausstattung</th>\n",
       "      <th>ausstattung</th>\n",
       "      <th>Unnamed: 23</th>\n",
       "    </tr>\n",
       "  </thead>\n",
       "  <tbody>\n",
       "    <tr>\n",
       "      <th>0</th>\n",
       "      <td>Volkswagen</td>\n",
       "      <td>Golf</td>\n",
       "      <td>9.797 €</td>\n",
       "      <td>79.449 km</td>\n",
       "      <td>04/2011</td>\n",
       "      <td>Benzin</td>\n",
       "      <td>Schaltgetriebe</td>\n",
       "      <td>63 kW (86 PS)</td>\n",
       "      <td>1.197 cm³</td>\n",
       "      <td>Neu</td>\n",
       "      <td>4720.0</td>\n",
       "      <td>Weiß</td>\n",
       "      <td>NaN</td>\n",
       "      <td>Limousine</td>\n",
       "      <td>5.0</td>\n",
       "      <td>4/5</td>\n",
       "      <td>Euro5</td>\n",
       "      <td>4 (Grün)</td>\n",
       "      <td>Klimaautomatik</td>\n",
       "      <td>Vorne, Hinten, Selbstlenkende Systeme</td>\n",
       "      <td>Front-, Seiten- und weitere Airbags</td>\n",
       "      <td>Alcantara, Schwarz</td>\n",
       "      <td>ABS,Alarmanlage,Armlehne,Bordcomputer,CD-Spiel...</td>\n",
       "      <td>NaN</td>\n",
       "    </tr>\n",
       "    <tr>\n",
       "      <th>1</th>\n",
       "      <td>Volkswagen</td>\n",
       "      <td>Golf</td>\n",
       "      <td>13.890 €</td>\n",
       "      <td>76.486 km</td>\n",
       "      <td>01/2015</td>\n",
       "      <td>Benzin, E10-geeignet</td>\n",
       "      <td>Schaltgetriebe</td>\n",
       "      <td>92 kW (125 PS)</td>\n",
       "      <td>1.395 cm³</td>\n",
       "      <td>Neu</td>\n",
       "      <td>13088.0</td>\n",
       "      <td>Schwarz Metallic</td>\n",
       "      <td>2.0</td>\n",
       "      <td>Limousine</td>\n",
       "      <td>5.0</td>\n",
       "      <td>4/5</td>\n",
       "      <td>Euro6</td>\n",
       "      <td>4 (Grün)</td>\n",
       "      <td>2-Zonen-Klimaautomatik</td>\n",
       "      <td>Hinten</td>\n",
       "      <td>Front-, Seiten- und weitere Airbags</td>\n",
       "      <td>Stoff, Schwarz</td>\n",
       "      <td>ABS,Ambiente-Beleuchtung,Armlehne,Berganfahras...</td>\n",
       "      <td>NaN</td>\n",
       "    </tr>\n",
       "    <tr>\n",
       "      <th>2</th>\n",
       "      <td>Mercedes-Benz</td>\n",
       "      <td>SLK 300</td>\n",
       "      <td>19.990 €</td>\n",
       "      <td>84.000 km</td>\n",
       "      <td>07/2009</td>\n",
       "      <td>Benzin</td>\n",
       "      <td>Automatik</td>\n",
       "      <td>170 kW (231 PS)</td>\n",
       "      <td>2.997 cm³</td>\n",
       "      <td>08/2023</td>\n",
       "      <td>42285.0</td>\n",
       "      <td>Schwarz Metallic</td>\n",
       "      <td>3.0</td>\n",
       "      <td>Cabrio / Roadster</td>\n",
       "      <td>2.0</td>\n",
       "      <td>2/3</td>\n",
       "      <td>Euro5</td>\n",
       "      <td>4 (Grün)</td>\n",
       "      <td>Klimaautomatik</td>\n",
       "      <td>Vorne, Hinten</td>\n",
       "      <td>Front- und Seiten-Airbags</td>\n",
       "      <td>Vollleder, Schwarz</td>\n",
       "      <td>ABS,Armlehne,Berganfahrassistent,Bi-Xenon Sche...</td>\n",
       "      <td>NaN</td>\n",
       "    </tr>\n",
       "    <tr>\n",
       "      <th>3</th>\n",
       "      <td>Mercedes-Benz</td>\n",
       "      <td>SLK 350</td>\n",
       "      <td>19.990 €</td>\n",
       "      <td>84.000 km</td>\n",
       "      <td>07/2009</td>\n",
       "      <td>Benzin</td>\n",
       "      <td>Automatik</td>\n",
       "      <td>170 kW (231 PS)</td>\n",
       "      <td>2.997 cm³</td>\n",
       "      <td>08/2023</td>\n",
       "      <td>42285.0</td>\n",
       "      <td>Schwarz Metallic</td>\n",
       "      <td>3.0</td>\n",
       "      <td>Cabrio / Roadster</td>\n",
       "      <td>2.0</td>\n",
       "      <td>2/3</td>\n",
       "      <td>Euro5</td>\n",
       "      <td>4 (Grün)</td>\n",
       "      <td>Klimaautomatik</td>\n",
       "      <td>Vorne, Hinten</td>\n",
       "      <td>Front- und Seiten-Airbags</td>\n",
       "      <td>Vollleder, Schwarz</td>\n",
       "      <td>ABS,Armlehne,Berganfahrassistent,Bi-Xenon Sche...</td>\n",
       "      <td>NaN</td>\n",
       "    </tr>\n",
       "    <tr>\n",
       "      <th>4</th>\n",
       "      <td>Mercedes-Benz</td>\n",
       "      <td>A 220</td>\n",
       "      <td>17.450 €</td>\n",
       "      <td>109.252 km</td>\n",
       "      <td>12/2012</td>\n",
       "      <td>Diesel</td>\n",
       "      <td>Automatik</td>\n",
       "      <td>125 kW (170 PS)</td>\n",
       "      <td>2.143 cm³</td>\n",
       "      <td>Neu</td>\n",
       "      <td>53879.0</td>\n",
       "      <td>Silber Metallic</td>\n",
       "      <td>2.0</td>\n",
       "      <td>Limousine</td>\n",
       "      <td>5.0</td>\n",
       "      <td>4/5</td>\n",
       "      <td>Euro6</td>\n",
       "      <td>4 (Grün)</td>\n",
       "      <td>Klimaanlage</td>\n",
       "      <td>Vorne, Hinten, Kamera, Selbstlenkende Systeme</td>\n",
       "      <td>Front-, Seiten- und weitere Airbags</td>\n",
       "      <td>Stoff, Schwarz</td>\n",
       "      <td>ABS,Abstandswarner,Armlehne,Berganfahrassisten...</td>\n",
       "      <td>NaN</td>\n",
       "    </tr>\n",
       "  </tbody>\n",
       "</table>\n",
       "</div>"
      ],
      "text/plain": [
       "           marke   modell     preis   kilometer erstzulassung  \\\n",
       "0     Volkswagen     Golf   9.797 €   79.449 km       04/2011   \n",
       "1     Volkswagen     Golf  13.890 €   76.486 km       01/2015   \n",
       "2  Mercedes-Benz  SLK 300  19.990 €   84.000 km       07/2009   \n",
       "3  Mercedes-Benz  SLK 350  19.990 €   84.000 km       07/2009   \n",
       "4  Mercedes-Benz    A 220  17.450 €  109.252 km       12/2012   \n",
       "\n",
       "          kraftstoffart        getriebe         leistung    hubraum       hu  \\\n",
       "0                Benzin  Schaltgetriebe    63 kW (86 PS)  1.197 cm³      Neu   \n",
       "1  Benzin, E10-geeignet  Schaltgetriebe   92 kW (125 PS)  1.395 cm³      Neu   \n",
       "2                Benzin       Automatik  170 kW (231 PS)  2.997 cm³  08/2023   \n",
       "3                Benzin       Automatik  170 kW (231 PS)  2.997 cm³  08/2023   \n",
       "4                Diesel       Automatik  125 kW (170 PS)  2.143 cm³      Neu   \n",
       "\n",
       "       plz             farbe  anzahlderFahrzeughalter          kategorie  \\\n",
       "0   4720.0              Weiß                      NaN          Limousine   \n",
       "1  13088.0  Schwarz Metallic                      2.0          Limousine   \n",
       "2  42285.0  Schwarz Metallic                      3.0  Cabrio / Roadster   \n",
       "3  42285.0  Schwarz Metallic                      3.0  Cabrio / Roadster   \n",
       "4  53879.0   Silber Metallic                      2.0          Limousine   \n",
       "\n",
       "   anzahlSitzplaetze anzahlderTueren schadstoffklasse umweltplakette  \\\n",
       "0                5.0             4/5            Euro5       4 (Grün)   \n",
       "1                5.0             4/5            Euro6       4 (Grün)   \n",
       "2                2.0             2/3            Euro5       4 (Grün)   \n",
       "3                2.0             2/3            Euro5       4 (Grün)   \n",
       "4                5.0             4/5            Euro6       4 (Grün)   \n",
       "\n",
       "           klimatisierung                                   einparkhilfe  \\\n",
       "0          Klimaautomatik          Vorne, Hinten, Selbstlenkende Systeme   \n",
       "1  2-Zonen-Klimaautomatik                                         Hinten   \n",
       "2          Klimaautomatik                                  Vorne, Hinten   \n",
       "3          Klimaautomatik                                  Vorne, Hinten   \n",
       "4             Klimaanlage  Vorne, Hinten, Kamera, Selbstlenkende Systeme   \n",
       "\n",
       "                               airbags    innenausstattung  \\\n",
       "0  Front-, Seiten- und weitere Airbags  Alcantara, Schwarz   \n",
       "1  Front-, Seiten- und weitere Airbags      Stoff, Schwarz   \n",
       "2            Front- und Seiten-Airbags  Vollleder, Schwarz   \n",
       "3            Front- und Seiten-Airbags  Vollleder, Schwarz   \n",
       "4  Front-, Seiten- und weitere Airbags      Stoff, Schwarz   \n",
       "\n",
       "                                         ausstattung  Unnamed: 23  \n",
       "0  ABS,Alarmanlage,Armlehne,Bordcomputer,CD-Spiel...          NaN  \n",
       "1  ABS,Ambiente-Beleuchtung,Armlehne,Berganfahras...          NaN  \n",
       "2  ABS,Armlehne,Berganfahrassistent,Bi-Xenon Sche...          NaN  \n",
       "3  ABS,Armlehne,Berganfahrassistent,Bi-Xenon Sche...          NaN  \n",
       "4  ABS,Abstandswarner,Armlehne,Berganfahrassisten...          NaN  "
      ]
     },
     "execution_count": 2,
     "metadata": {},
     "output_type": "execute_result"
    }
   ],
   "source": [
    "df = pd.read_csv('./uebung/cars.csv', index_col=0)\n",
    "df.head()"
   ]
  },
  {
   "cell_type": "markdown",
   "metadata": {},
   "source": [
    "---"
   ]
  },
  {
   "cell_type": "markdown",
   "metadata": {},
   "source": [
    "### 3) (M) Wieviele `Nan` Values sind in den einzelnen Spalten des  `DataFrames` enthalten?"
   ]
  },
  {
   "cell_type": "code",
   "execution_count": 3,
   "metadata": {},
   "outputs": [
    {
     "data": {
      "text/plain": [
       "marke                        459\n",
       "modell                       459\n",
       "preis                        477\n",
       "kilometer                    499\n",
       "erstzulassung                534\n",
       "kraftstoffart                477\n",
       "getriebe                     478\n",
       "leistung                     477\n",
       "hubraum                      506\n",
       "hu                          1470\n",
       "plz                          459\n",
       "farbe                        483\n",
       "anzahlderFahrzeughalter     2073\n",
       "kategorie                    477\n",
       "anzahlSitzplaetze            492\n",
       "anzahlderTueren              480\n",
       "schadstoffklasse            1411\n",
       "umweltplakette               986\n",
       "klimatisierung               913\n",
       "einparkhilfe                 556\n",
       "airbags                      500\n",
       "innenausstattung             479\n",
       "ausstattung                  478\n",
       "Unnamed: 23                10000\n",
       "dtype: int64"
      ]
     },
     "execution_count": 3,
     "metadata": {},
     "output_type": "execute_result"
    }
   ],
   "source": [
    "df.isna().sum()"
   ]
  },
  {
   "cell_type": "markdown",
   "metadata": {},
   "source": [
    "---"
   ]
  },
  {
   "cell_type": "markdown",
   "metadata": {},
   "source": [
    "### 4) (M) Wieviele Autos der Marke `BMW` sind enthalten?"
   ]
  },
  {
   "cell_type": "code",
   "execution_count": 4,
   "metadata": {},
   "outputs": [
    {
     "data": {
      "text/plain": [
       "str"
      ]
     },
     "execution_count": 4,
     "metadata": {},
     "output_type": "execute_result"
    }
   ],
   "source": [
    "type(df.loc[0, 'marke'])"
   ]
  },
  {
   "cell_type": "code",
   "execution_count": 5,
   "metadata": {},
   "outputs": [
    {
     "data": {
      "text/plain": [
       "(942, 24)"
      ]
     },
     "execution_count": 5,
     "metadata": {},
     "output_type": "execute_result"
    }
   ],
   "source": [
    "df[df['marke'] == 'BMW'].shape"
   ]
  },
  {
   "cell_type": "markdown",
   "metadata": {},
   "source": [
    "---"
   ]
  },
  {
   "cell_type": "markdown",
   "metadata": {},
   "source": [
    "### 5) (M) Wieviele `Zwei-Sitzer` sind enthalten?"
   ]
  },
  {
   "cell_type": "code",
   "execution_count": 6,
   "metadata": {},
   "outputs": [
    {
     "data": {
      "text/plain": [
       "numpy.float64"
      ]
     },
     "execution_count": 6,
     "metadata": {},
     "output_type": "execute_result"
    }
   ],
   "source": [
    "type(df.loc[0, 'anzahlSitzplaetze'])"
   ]
  },
  {
   "cell_type": "code",
   "execution_count": 7,
   "metadata": {},
   "outputs": [
    {
     "data": {
      "text/plain": [
       "(456, 24)"
      ]
     },
     "execution_count": 7,
     "metadata": {},
     "output_type": "execute_result"
    }
   ],
   "source": [
    "df[df['anzahlSitzplaetze'] <= 2.0].shape"
   ]
  },
  {
   "cell_type": "markdown",
   "metadata": {},
   "source": [
    "---"
   ]
  },
  {
   "cell_type": "markdown",
   "metadata": {},
   "source": [
    "### 6) (M) Wieviele Autos sind `Cabrio / Roadster`? \n",
    "#### Verwende NICHT den `==` OPERATOR!"
   ]
  },
  {
   "cell_type": "code",
   "execution_count": 8,
   "metadata": {},
   "outputs": [
    {
     "data": {
      "text/plain": [
       "(552, 24)"
      ]
     },
     "execution_count": 8,
     "metadata": {},
     "output_type": "execute_result"
    }
   ],
   "source": [
    "df[df.kategorie.isin(['Cabrio / Roadster'])].shape"
   ]
  },
  {
   "cell_type": "markdown",
   "metadata": {},
   "source": [
    "---"
   ]
  },
  {
   "cell_type": "markdown",
   "metadata": {},
   "source": [
    "### 7) (M) Wieviele `Zwei-Sitzer` sind `Cabrio / Roadster`'s?"
   ]
  },
  {
   "cell_type": "code",
   "execution_count": 9,
   "metadata": {},
   "outputs": [
    {
     "data": {
      "text/plain": [
       "(16, 24)"
      ]
     },
     "execution_count": 9,
     "metadata": {},
     "output_type": "execute_result"
    }
   ],
   "source": [
    "df[(df['anzahlSitzplaetze'] <= 2.0) & (df['kategorie'] == 'Cabrio / Roadster')].shape"
   ]
  },
  {
   "cell_type": "markdown",
   "metadata": {},
   "source": [
    "***"
   ]
  },
  {
   "cell_type": "markdown",
   "metadata": {},
   "source": [
    "### 8) (S) Wieviele Modelle `320` der Marke `BMW` sind enthalten?\n",
    "#### Verwende die QUERY-Funktion!"
   ]
  },
  {
   "cell_type": "code",
   "execution_count": 10,
   "metadata": {},
   "outputs": [
    {
     "data": {
      "text/plain": [
       "(448, 24)"
      ]
     },
     "execution_count": 10,
     "metadata": {},
     "output_type": "execute_result"
    }
   ],
   "source": [
    "df.query('marke == \"BMW\" & modell == \"320\"').shape"
   ]
  },
  {
   "cell_type": "markdown",
   "metadata": {},
   "source": [
    "***"
   ]
  },
  {
   "cell_type": "markdown",
   "metadata": {},
   "source": [
    "### 9) (S) Wieviele Autos verfügen über ein `Schiebedach` im Feature `ausstattung`?"
   ]
  },
  {
   "cell_type": "code",
   "execution_count": 11,
   "metadata": {},
   "outputs": [],
   "source": [
    "# !!\n",
    "# df[df.ausstattung.isin(['Cabrio / Roadster'])].shape"
   ]
  },
  {
   "cell_type": "code",
   "execution_count": 12,
   "metadata": {},
   "outputs": [
    {
     "data": {
      "text/plain": [
       "'ABS,Alarmanlage,Armlehne,Bordcomputer,CD-Spieler,Elektr. Fensterheber,Elektr. Seitenspiegel,Elektr. Wegfahrsperre,ESP,Gepäckraumabtrennung,Innenspiegel autom. abblendend,Isofix,Kurvenlicht,Lederlenkrad,Leichtmetallfelgen,Lichtsensor,Lordosenstütze,Multifunktionslenkrad,Nebelscheinwerfer,Nichtraucher-Fahrzeug,Regensensor,Reifendruckkontrolle,Reserverad,Scheckheftgepflegt,Scheinwerferreinigung,Schiebedach,Servolenkung,Sitzheizung,Sommerreifen,Tagfahrlicht,Tempomat,Traktionskontrolle,Tuner/Radio,Winterpaket,Winterreifen,Zentralverriegelung,'"
      ]
     },
     "execution_count": 12,
     "metadata": {},
     "output_type": "execute_result"
    }
   ],
   "source": [
    "df.loc[0, 'ausstattung']"
   ]
  },
  {
   "cell_type": "code",
   "execution_count": 13,
   "metadata": {},
   "outputs": [
    {
     "data": {
      "text/html": [
       "<div>\n",
       "<style scoped>\n",
       "    .dataframe tbody tr th:only-of-type {\n",
       "        vertical-align: middle;\n",
       "    }\n",
       "\n",
       "    .dataframe tbody tr th {\n",
       "        vertical-align: top;\n",
       "    }\n",
       "\n",
       "    .dataframe thead th {\n",
       "        text-align: right;\n",
       "    }\n",
       "</style>\n",
       "<table border=\"1\" class=\"dataframe\">\n",
       "  <thead>\n",
       "    <tr style=\"text-align: right;\">\n",
       "      <th></th>\n",
       "      <th>marke</th>\n",
       "      <th>modell</th>\n",
       "      <th>preis</th>\n",
       "      <th>kilometer</th>\n",
       "      <th>erstzulassung</th>\n",
       "      <th>kraftstoffart</th>\n",
       "      <th>getriebe</th>\n",
       "      <th>leistung</th>\n",
       "      <th>hubraum</th>\n",
       "      <th>hu</th>\n",
       "      <th>plz</th>\n",
       "      <th>farbe</th>\n",
       "      <th>anzahlderFahrzeughalter</th>\n",
       "      <th>kategorie</th>\n",
       "      <th>anzahlSitzplaetze</th>\n",
       "      <th>anzahlderTueren</th>\n",
       "      <th>schadstoffklasse</th>\n",
       "      <th>umweltplakette</th>\n",
       "      <th>klimatisierung</th>\n",
       "      <th>einparkhilfe</th>\n",
       "      <th>airbags</th>\n",
       "      <th>innenausstattung</th>\n",
       "      <th>ausstattung</th>\n",
       "      <th>Unnamed: 23</th>\n",
       "    </tr>\n",
       "  </thead>\n",
       "  <tbody>\n",
       "    <tr>\n",
       "      <th>0</th>\n",
       "      <td>Volkswagen</td>\n",
       "      <td>Golf</td>\n",
       "      <td>9.797 €</td>\n",
       "      <td>79.449 km</td>\n",
       "      <td>04/2011</td>\n",
       "      <td>Benzin</td>\n",
       "      <td>Schaltgetriebe</td>\n",
       "      <td>63 kW (86 PS)</td>\n",
       "      <td>1.197 cm³</td>\n",
       "      <td>Neu</td>\n",
       "      <td>4720.0</td>\n",
       "      <td>Weiß</td>\n",
       "      <td>NaN</td>\n",
       "      <td>Limousine</td>\n",
       "      <td>5.0</td>\n",
       "      <td>4/5</td>\n",
       "      <td>Euro5</td>\n",
       "      <td>4 (Grün)</td>\n",
       "      <td>Klimaautomatik</td>\n",
       "      <td>Vorne, Hinten, Selbstlenkende Systeme</td>\n",
       "      <td>Front-, Seiten- und weitere Airbags</td>\n",
       "      <td>Alcantara, Schwarz</td>\n",
       "      <td>ABS,Alarmanlage,Armlehne,Bordcomputer,CD-Spiel...</td>\n",
       "      <td>NaN</td>\n",
       "    </tr>\n",
       "    <tr>\n",
       "      <th>5</th>\n",
       "      <td>Mercedes-Benz</td>\n",
       "      <td>SLK 200</td>\n",
       "      <td>19.950 €</td>\n",
       "      <td>117.200 km</td>\n",
       "      <td>06/2011</td>\n",
       "      <td>Benzin, E10-geeignet</td>\n",
       "      <td>Automatik</td>\n",
       "      <td>135 kW (184 PS)</td>\n",
       "      <td>1.796 cm³</td>\n",
       "      <td>Neu</td>\n",
       "      <td>27793.0</td>\n",
       "      <td>Schwarz Metallic</td>\n",
       "      <td>2.0</td>\n",
       "      <td>Cabrio / Roadster</td>\n",
       "      <td>2.0</td>\n",
       "      <td>2/3</td>\n",
       "      <td>Euro5</td>\n",
       "      <td>4 (Grün)</td>\n",
       "      <td>2-Zonen-Klimaautomatik</td>\n",
       "      <td>Vorne, Hinten</td>\n",
       "      <td>Front-, Seiten- und weitere Airbags</td>\n",
       "      <td>Vollleder, Schwarz</td>\n",
       "      <td>ABS,Adaptives Kurvenlicht,Alarmanlage,Ambiente...</td>\n",
       "      <td>NaN</td>\n",
       "    </tr>\n",
       "    <tr>\n",
       "      <th>9</th>\n",
       "      <td>BMW</td>\n",
       "      <td>328</td>\n",
       "      <td>18.780 €</td>\n",
       "      <td>104.000 km</td>\n",
       "      <td>05/2013</td>\n",
       "      <td>Benzin</td>\n",
       "      <td>Automatik</td>\n",
       "      <td>180 kW (245 PS)</td>\n",
       "      <td>1.997 cm³</td>\n",
       "      <td>Neu</td>\n",
       "      <td>73479.0</td>\n",
       "      <td>Braun Metallic</td>\n",
       "      <td>2.0</td>\n",
       "      <td>Limousine</td>\n",
       "      <td>5.0</td>\n",
       "      <td>4/5</td>\n",
       "      <td>Euro6</td>\n",
       "      <td>4 (Grün)</td>\n",
       "      <td>2-Zonen-Klimaautomatik</td>\n",
       "      <td>Vorne, Hinten</td>\n",
       "      <td>Front-, Seiten- und weitere Airbags</td>\n",
       "      <td>Vollleder, Beige</td>\n",
       "      <td>ABS,Adaptives Kurvenlicht,Alarmanlage,Ambiente...</td>\n",
       "      <td>NaN</td>\n",
       "    </tr>\n",
       "    <tr>\n",
       "      <th>11</th>\n",
       "      <td>Volkswagen</td>\n",
       "      <td>Golf</td>\n",
       "      <td>16.880 €</td>\n",
       "      <td>63.000 km</td>\n",
       "      <td>05/2015</td>\n",
       "      <td>Benzin</td>\n",
       "      <td>Automatik</td>\n",
       "      <td>92 kW (125 PS)</td>\n",
       "      <td>1.395 cm³</td>\n",
       "      <td>Neu</td>\n",
       "      <td>73479.0</td>\n",
       "      <td>Grau Metallic</td>\n",
       "      <td>2.0</td>\n",
       "      <td>Kombi</td>\n",
       "      <td>5.0</td>\n",
       "      <td>4/5</td>\n",
       "      <td>Euro6</td>\n",
       "      <td>4 (Grün)</td>\n",
       "      <td>2-Zonen-Klimaautomatik</td>\n",
       "      <td>Vorne, Hinten</td>\n",
       "      <td>Front-, Seiten- und weitere Airbags</td>\n",
       "      <td>Stoff, Schwarz</td>\n",
       "      <td>ABS,Armlehne,Berganfahrassistent,Bordcomputer,...</td>\n",
       "      <td>NaN</td>\n",
       "    </tr>\n",
       "    <tr>\n",
       "      <th>13</th>\n",
       "      <td>Volkswagen</td>\n",
       "      <td>T-Roc</td>\n",
       "      <td>37.679 €</td>\n",
       "      <td>16.981 km</td>\n",
       "      <td>09/2020</td>\n",
       "      <td>Benzin</td>\n",
       "      <td>Automatik</td>\n",
       "      <td>221 kW (300 PS)</td>\n",
       "      <td>1.984 cm³</td>\n",
       "      <td>Neu</td>\n",
       "      <td>94099.0</td>\n",
       "      <td>Gelb Metallic</td>\n",
       "      <td>1.0</td>\n",
       "      <td>SUV / Geländewagen / Pickup</td>\n",
       "      <td>5.0</td>\n",
       "      <td>4/5</td>\n",
       "      <td>Euro6d-TEMP</td>\n",
       "      <td>4 (Grün)</td>\n",
       "      <td>2-Zonen-Klimaautomatik</td>\n",
       "      <td>Vorne, Hinten, Kamera</td>\n",
       "      <td>Front-, Seiten- und weitere Airbags</td>\n",
       "      <td>Teilleder, Schwarz</td>\n",
       "      <td>ABS,Abstandstempomat,Abstandswarner,Alarmanlag...</td>\n",
       "      <td>NaN</td>\n",
       "    </tr>\n",
       "    <tr>\n",
       "      <th>...</th>\n",
       "      <td>...</td>\n",
       "      <td>...</td>\n",
       "      <td>...</td>\n",
       "      <td>...</td>\n",
       "      <td>...</td>\n",
       "      <td>...</td>\n",
       "      <td>...</td>\n",
       "      <td>...</td>\n",
       "      <td>...</td>\n",
       "      <td>...</td>\n",
       "      <td>...</td>\n",
       "      <td>...</td>\n",
       "      <td>...</td>\n",
       "      <td>...</td>\n",
       "      <td>...</td>\n",
       "      <td>...</td>\n",
       "      <td>...</td>\n",
       "      <td>...</td>\n",
       "      <td>...</td>\n",
       "      <td>...</td>\n",
       "      <td>...</td>\n",
       "      <td>...</td>\n",
       "      <td>...</td>\n",
       "      <td>...</td>\n",
       "    </tr>\n",
       "    <tr>\n",
       "      <th>9988</th>\n",
       "      <td>Mercedes-Benz</td>\n",
       "      <td>GLE 63 AMG</td>\n",
       "      <td>152.979 €</td>\n",
       "      <td>9.900 km</td>\n",
       "      <td>01/2022</td>\n",
       "      <td>Benzin</td>\n",
       "      <td>Automatik</td>\n",
       "      <td>450 kW (612 PS)</td>\n",
       "      <td>3.982 cm³</td>\n",
       "      <td>Neu</td>\n",
       "      <td>94315.0</td>\n",
       "      <td>Grau Metallic</td>\n",
       "      <td>1.0</td>\n",
       "      <td>Sportwagen / Coupé, Vorführfahrzeug</td>\n",
       "      <td>5.0</td>\n",
       "      <td>4/5</td>\n",
       "      <td>Euro6d</td>\n",
       "      <td>4 (Grün)</td>\n",
       "      <td>Klimaautomatik</td>\n",
       "      <td>Vorne, Hinten, Selbstlenkende Systeme, 360°-Ka...</td>\n",
       "      <td>Front-, Seiten- und weitere Airbags</td>\n",
       "      <td>Vollleder, Schwarz</td>\n",
       "      <td>ABS,Abstandstempomat,Abstandswarner,Adaptives ...</td>\n",
       "      <td>NaN</td>\n",
       "    </tr>\n",
       "    <tr>\n",
       "      <th>9989</th>\n",
       "      <td>BMW</td>\n",
       "      <td>530</td>\n",
       "      <td>21.990 €</td>\n",
       "      <td>91.812 km</td>\n",
       "      <td>03/2012</td>\n",
       "      <td>Diesel</td>\n",
       "      <td>Automatik</td>\n",
       "      <td>190 kW (258 PS)</td>\n",
       "      <td>2.993 cm³</td>\n",
       "      <td>Neu</td>\n",
       "      <td>92546.0</td>\n",
       "      <td>Blau Metallic</td>\n",
       "      <td>2.0</td>\n",
       "      <td>Limousine</td>\n",
       "      <td>5.0</td>\n",
       "      <td>4/5</td>\n",
       "      <td>Euro5</td>\n",
       "      <td>4 (Grün)</td>\n",
       "      <td>2-Zonen-Klimaautomatik</td>\n",
       "      <td>Vorne, Hinten</td>\n",
       "      <td>Front-, Seiten- und weitere Airbags</td>\n",
       "      <td>Vollleder, Schwarz</td>\n",
       "      <td>ABS,Alarmanlage,Allradantrieb,Armlehne,Bi-Xeno...</td>\n",
       "      <td>NaN</td>\n",
       "    </tr>\n",
       "    <tr>\n",
       "      <th>9994</th>\n",
       "      <td>Mercedes-Benz</td>\n",
       "      <td>E 350</td>\n",
       "      <td>23.332 €</td>\n",
       "      <td>96.850 km</td>\n",
       "      <td>01/2013</td>\n",
       "      <td>Diesel</td>\n",
       "      <td>Automatik</td>\n",
       "      <td>185 kW (252 PS)</td>\n",
       "      <td>2.987 cm³</td>\n",
       "      <td>Neu</td>\n",
       "      <td>29303.0</td>\n",
       "      <td>Silber Metallic</td>\n",
       "      <td>NaN</td>\n",
       "      <td>Limousine</td>\n",
       "      <td>5.0</td>\n",
       "      <td>4/5</td>\n",
       "      <td>Euro6</td>\n",
       "      <td>4 (Grün)</td>\n",
       "      <td>3-Zonen-Klimaautomatik</td>\n",
       "      <td>Vorne, Hinten, Selbstlenkende Systeme</td>\n",
       "      <td>Front-, Seiten- und weitere Airbags</td>\n",
       "      <td>Vollleder, Schwarz</td>\n",
       "      <td>ABS,Abstandswarner,Armlehne,Berganfahrassisten...</td>\n",
       "      <td>NaN</td>\n",
       "    </tr>\n",
       "    <tr>\n",
       "      <th>9995</th>\n",
       "      <td>Volkswagen</td>\n",
       "      <td>Golf</td>\n",
       "      <td>14.900 €</td>\n",
       "      <td>93.500 km</td>\n",
       "      <td>09/2013</td>\n",
       "      <td>Benzin</td>\n",
       "      <td>Automatik</td>\n",
       "      <td>90 kW (122 PS)</td>\n",
       "      <td>1.395 cm³</td>\n",
       "      <td>Neu</td>\n",
       "      <td>12623.0</td>\n",
       "      <td>Blau Metallic</td>\n",
       "      <td>2.0</td>\n",
       "      <td>Kombi</td>\n",
       "      <td>5.0</td>\n",
       "      <td>4/5</td>\n",
       "      <td>Euro5</td>\n",
       "      <td>4 (Grün)</td>\n",
       "      <td>2-Zonen-Klimaautomatik</td>\n",
       "      <td>Vorne, Hinten, Kamera, Selbstlenkende Systeme</td>\n",
       "      <td>Front-, Seiten- und weitere Airbags</td>\n",
       "      <td>Teilleder, Schwarz</td>\n",
       "      <td>Abstandstempomat,Alarmanlage,Ambiente-Beleucht...</td>\n",
       "      <td>NaN</td>\n",
       "    </tr>\n",
       "    <tr>\n",
       "      <th>9998</th>\n",
       "      <td>BMW</td>\n",
       "      <td>320</td>\n",
       "      <td>14.749 €</td>\n",
       "      <td>94.505 km</td>\n",
       "      <td>11/2011</td>\n",
       "      <td>Diesel</td>\n",
       "      <td>Automatik</td>\n",
       "      <td>135 kW (184 PS)</td>\n",
       "      <td>1.995 cm³</td>\n",
       "      <td>01/2024</td>\n",
       "      <td>83026.0</td>\n",
       "      <td>Schwarz Metallic</td>\n",
       "      <td>2.0</td>\n",
       "      <td>Kombi</td>\n",
       "      <td>5.0</td>\n",
       "      <td>4/5</td>\n",
       "      <td>Euro5</td>\n",
       "      <td>4 (Grün)</td>\n",
       "      <td>2-Zonen-Klimaautomatik</td>\n",
       "      <td>Hinten</td>\n",
       "      <td>Front-, Seiten- und weitere Airbags</td>\n",
       "      <td>Vollleder, Schwarz</td>\n",
       "      <td>ABS,Adaptives Kurvenlicht,Armlehne,Bluetooth,B...</td>\n",
       "      <td>NaN</td>\n",
       "    </tr>\n",
       "  </tbody>\n",
       "</table>\n",
       "<p>2999 rows × 24 columns</p>\n",
       "</div>"
      ],
      "text/plain": [
       "              marke      modell      preis   kilometer erstzulassung  \\\n",
       "0        Volkswagen        Golf    9.797 €   79.449 km       04/2011   \n",
       "5     Mercedes-Benz     SLK 200   19.950 €  117.200 km       06/2011   \n",
       "9               BMW         328   18.780 €  104.000 km       05/2013   \n",
       "11       Volkswagen        Golf   16.880 €   63.000 km       05/2015   \n",
       "13       Volkswagen       T-Roc   37.679 €   16.981 km       09/2020   \n",
       "...             ...         ...        ...         ...           ...   \n",
       "9988  Mercedes-Benz  GLE 63 AMG  152.979 €    9.900 km       01/2022   \n",
       "9989            BMW         530   21.990 €   91.812 km       03/2012   \n",
       "9994  Mercedes-Benz       E 350   23.332 €   96.850 km       01/2013   \n",
       "9995     Volkswagen        Golf   14.900 €   93.500 km       09/2013   \n",
       "9998            BMW         320   14.749 €   94.505 km       11/2011   \n",
       "\n",
       "             kraftstoffart        getriebe         leistung    hubraum  \\\n",
       "0                   Benzin  Schaltgetriebe    63 kW (86 PS)  1.197 cm³   \n",
       "5     Benzin, E10-geeignet       Automatik  135 kW (184 PS)  1.796 cm³   \n",
       "9                   Benzin       Automatik  180 kW (245 PS)  1.997 cm³   \n",
       "11                  Benzin       Automatik   92 kW (125 PS)  1.395 cm³   \n",
       "13                  Benzin       Automatik  221 kW (300 PS)  1.984 cm³   \n",
       "...                    ...             ...              ...        ...   \n",
       "9988                Benzin       Automatik  450 kW (612 PS)  3.982 cm³   \n",
       "9989                Diesel       Automatik  190 kW (258 PS)  2.993 cm³   \n",
       "9994                Diesel       Automatik  185 kW (252 PS)  2.987 cm³   \n",
       "9995                Benzin       Automatik   90 kW (122 PS)  1.395 cm³   \n",
       "9998                Diesel       Automatik  135 kW (184 PS)  1.995 cm³   \n",
       "\n",
       "           hu      plz             farbe  anzahlderFahrzeughalter  \\\n",
       "0         Neu   4720.0              Weiß                      NaN   \n",
       "5         Neu  27793.0  Schwarz Metallic                      2.0   \n",
       "9         Neu  73479.0    Braun Metallic                      2.0   \n",
       "11        Neu  73479.0     Grau Metallic                      2.0   \n",
       "13        Neu  94099.0     Gelb Metallic                      1.0   \n",
       "...       ...      ...               ...                      ...   \n",
       "9988      Neu  94315.0     Grau Metallic                      1.0   \n",
       "9989      Neu  92546.0     Blau Metallic                      2.0   \n",
       "9994      Neu  29303.0   Silber Metallic                      NaN   \n",
       "9995      Neu  12623.0     Blau Metallic                      2.0   \n",
       "9998  01/2024  83026.0  Schwarz Metallic                      2.0   \n",
       "\n",
       "                                kategorie  anzahlSitzplaetze anzahlderTueren  \\\n",
       "0                               Limousine                5.0             4/5   \n",
       "5                       Cabrio / Roadster                2.0             2/3   \n",
       "9                               Limousine                5.0             4/5   \n",
       "11                                  Kombi                5.0             4/5   \n",
       "13            SUV / Geländewagen / Pickup                5.0             4/5   \n",
       "...                                   ...                ...             ...   \n",
       "9988  Sportwagen / Coupé, Vorführfahrzeug                5.0             4/5   \n",
       "9989                            Limousine                5.0             4/5   \n",
       "9994                            Limousine                5.0             4/5   \n",
       "9995                                Kombi                5.0             4/5   \n",
       "9998                                Kombi                5.0             4/5   \n",
       "\n",
       "     schadstoffklasse umweltplakette          klimatisierung  \\\n",
       "0               Euro5       4 (Grün)          Klimaautomatik   \n",
       "5               Euro5       4 (Grün)  2-Zonen-Klimaautomatik   \n",
       "9               Euro6       4 (Grün)  2-Zonen-Klimaautomatik   \n",
       "11              Euro6       4 (Grün)  2-Zonen-Klimaautomatik   \n",
       "13        Euro6d-TEMP       4 (Grün)  2-Zonen-Klimaautomatik   \n",
       "...               ...            ...                     ...   \n",
       "9988           Euro6d       4 (Grün)          Klimaautomatik   \n",
       "9989            Euro5       4 (Grün)  2-Zonen-Klimaautomatik   \n",
       "9994            Euro6       4 (Grün)  3-Zonen-Klimaautomatik   \n",
       "9995            Euro5       4 (Grün)  2-Zonen-Klimaautomatik   \n",
       "9998            Euro5       4 (Grün)  2-Zonen-Klimaautomatik   \n",
       "\n",
       "                                           einparkhilfe  \\\n",
       "0                 Vorne, Hinten, Selbstlenkende Systeme   \n",
       "5                                         Vorne, Hinten   \n",
       "9                                         Vorne, Hinten   \n",
       "11                                        Vorne, Hinten   \n",
       "13                                Vorne, Hinten, Kamera   \n",
       "...                                                 ...   \n",
       "9988  Vorne, Hinten, Selbstlenkende Systeme, 360°-Ka...   \n",
       "9989                                      Vorne, Hinten   \n",
       "9994              Vorne, Hinten, Selbstlenkende Systeme   \n",
       "9995      Vorne, Hinten, Kamera, Selbstlenkende Systeme   \n",
       "9998                                             Hinten   \n",
       "\n",
       "                                  airbags    innenausstattung  \\\n",
       "0     Front-, Seiten- und weitere Airbags  Alcantara, Schwarz   \n",
       "5     Front-, Seiten- und weitere Airbags  Vollleder, Schwarz   \n",
       "9     Front-, Seiten- und weitere Airbags    Vollleder, Beige   \n",
       "11    Front-, Seiten- und weitere Airbags      Stoff, Schwarz   \n",
       "13    Front-, Seiten- und weitere Airbags  Teilleder, Schwarz   \n",
       "...                                   ...                 ...   \n",
       "9988  Front-, Seiten- und weitere Airbags  Vollleder, Schwarz   \n",
       "9989  Front-, Seiten- und weitere Airbags  Vollleder, Schwarz   \n",
       "9994  Front-, Seiten- und weitere Airbags  Vollleder, Schwarz   \n",
       "9995  Front-, Seiten- und weitere Airbags  Teilleder, Schwarz   \n",
       "9998  Front-, Seiten- und weitere Airbags  Vollleder, Schwarz   \n",
       "\n",
       "                                            ausstattung  Unnamed: 23  \n",
       "0     ABS,Alarmanlage,Armlehne,Bordcomputer,CD-Spiel...          NaN  \n",
       "5     ABS,Adaptives Kurvenlicht,Alarmanlage,Ambiente...          NaN  \n",
       "9     ABS,Adaptives Kurvenlicht,Alarmanlage,Ambiente...          NaN  \n",
       "11    ABS,Armlehne,Berganfahrassistent,Bordcomputer,...          NaN  \n",
       "13    ABS,Abstandstempomat,Abstandswarner,Alarmanlag...          NaN  \n",
       "...                                                 ...          ...  \n",
       "9988  ABS,Abstandstempomat,Abstandswarner,Adaptives ...          NaN  \n",
       "9989  ABS,Alarmanlage,Allradantrieb,Armlehne,Bi-Xeno...          NaN  \n",
       "9994  ABS,Abstandswarner,Armlehne,Berganfahrassisten...          NaN  \n",
       "9995  Abstandstempomat,Alarmanlage,Ambiente-Beleucht...          NaN  \n",
       "9998  ABS,Adaptives Kurvenlicht,Armlehne,Bluetooth,B...          NaN  \n",
       "\n",
       "[2999 rows x 24 columns]"
      ]
     },
     "execution_count": 13,
     "metadata": {},
     "output_type": "execute_result"
    }
   ],
   "source": [
    "df[df.ausstattung.str.contains('Schiebedach', case=False, na=False)]"
   ]
  },
  {
   "cell_type": "code",
   "execution_count": 14,
   "metadata": {},
   "outputs": [
    {
     "data": {
      "text/plain": [
       "'ABS,Abstandswarner,Allradantrieb,Allwetterreifen,Ambiente-Beleuchtung,Berganfahrassistent,Bi-Xenon Scheinwerfer,Bluetooth,Bordcomputer,CD-Spieler,Elektr. Fensterheber,Elektr. Heckklappe,Elektr. Seitenspiegel,Elektr. Sitzeinstellung,Elektr. Wegfahrsperre,ESP,Fernlichtassistent,Freisprecheinrichtung,Garantie,Isofix,Lederlenkrad,Lichtsensor,Multifunktionslenkrad,Navigationssystem,Panorama-Dach,Partikelfilter,Regensensor,Reifendruckkontrolle,Schaltwippen,Scheckheftgepflegt,Scheinwerferreinigung,Servolenkung,Sitzheizung,Sportfahrwerk,Sportpaket,Sportsitze,Start/Stopp-Automatik,Tagfahrlicht,Tempomat,Traktionskontrolle,Verkehrszeichenerkennung,Zentralverriegelung,'"
      ]
     },
     "execution_count": 14,
     "metadata": {},
     "output_type": "execute_result"
    }
   ],
   "source": [
    "df.loc[7, 'ausstattung']"
   ]
  },
  {
   "cell_type": "markdown",
   "metadata": {},
   "source": [
    "***"
   ]
  },
  {
   "cell_type": "markdown",
   "metadata": {},
   "source": [
    "### 10) (S) Wieviele Autos der Marke `Mercedes-Benz` gibt es, die entweder über eine `2-Zonen-Klimaautomatik` oder über eine `3-Zonen-Klimaautomatik` verfügen? "
   ]
  },
  {
   "cell_type": "code",
   "execution_count": 15,
   "metadata": {},
   "outputs": [
    {
     "data": {
      "text/plain": [
       "(512, 24)"
      ]
     },
     "execution_count": 15,
     "metadata": {},
     "output_type": "execute_result"
    }
   ],
   "source": [
    "df[(df['marke'] == 'Mercedes-Benz') & (df['klimatisierung'] == '2-Zonen-Klimaautomatik') | \n",
    "   (df['marke'] == 'Mercedes-Benz') & (df['klimatisierung'] == '3-Zonen-Klimaautomatik')].shape"
   ]
  },
  {
   "cell_type": "code",
   "execution_count": 16,
   "metadata": {},
   "outputs": [
    {
     "data": {
      "text/plain": [
       "(512, 24)"
      ]
     },
     "execution_count": 16,
     "metadata": {},
     "output_type": "execute_result"
    }
   ],
   "source": [
    "df.query('marke == \"Mercedes-Benz\" & klimatisierung == \"2-Zonen-Klimaautomatik\"\\\n",
    "| marke == \"Mercedes-Benz\" & klimatisierung == \"3-Zonen-Klimaautomatik\"').shape\n",
    "         "
   ]
  }
 ],
 "metadata": {
  "kernelspec": {
   "display_name": "Python 3",
   "language": "python",
   "name": "python3"
  },
  "language_info": {
   "codemirror_mode": {
    "name": "ipython",
    "version": 3
   },
   "file_extension": ".py",
   "mimetype": "text/x-python",
   "name": "python",
   "nbconvert_exporter": "python",
   "pygments_lexer": "ipython3",
   "version": "3.7.6"
  }
 },
 "nbformat": 4,
 "nbformat_minor": 4
}
