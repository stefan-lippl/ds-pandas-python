{
 "cells": [
  {
   "cell_type": "markdown",
   "metadata": {},
   "source": [
    "#  <center> <u>Übung:</u> Pandas Grouping & Sorting"
   ]
  },
  {
   "cell_type": "markdown",
   "metadata": {},
   "source": [
    "### 1) (L) Importiere `Pandas` und lade den Datensatz von `uebung/cars.csv` und lass dir den `Kopf` ausgeben"
   ]
  },
  {
   "cell_type": "code",
   "execution_count": 31,
   "metadata": {},
   "outputs": [],
   "source": [
    "import pandas as pd\n",
    "pd.set_option('display.max_columns', None)"
   ]
  },
  {
   "cell_type": "code",
   "execution_count": 32,
   "metadata": {},
   "outputs": [
    {
     "data": {
      "text/html": [
       "<div>\n",
       "<style scoped>\n",
       "    .dataframe tbody tr th:only-of-type {\n",
       "        vertical-align: middle;\n",
       "    }\n",
       "\n",
       "    .dataframe tbody tr th {\n",
       "        vertical-align: top;\n",
       "    }\n",
       "\n",
       "    .dataframe thead th {\n",
       "        text-align: right;\n",
       "    }\n",
       "</style>\n",
       "<table border=\"1\" class=\"dataframe\">\n",
       "  <thead>\n",
       "    <tr style=\"text-align: right;\">\n",
       "      <th></th>\n",
       "      <th>marke</th>\n",
       "      <th>modell</th>\n",
       "      <th>preis</th>\n",
       "      <th>kilometer</th>\n",
       "      <th>erstzulassung</th>\n",
       "      <th>kraftstoffart</th>\n",
       "      <th>getriebe</th>\n",
       "      <th>leistung</th>\n",
       "      <th>hubraum</th>\n",
       "      <th>hu</th>\n",
       "      <th>plz</th>\n",
       "      <th>farbe</th>\n",
       "      <th>anzahlderFahrzeughalter</th>\n",
       "      <th>kategorie</th>\n",
       "      <th>anzahlSitzplaetze</th>\n",
       "      <th>anzahlderTueren</th>\n",
       "      <th>schadstoffklasse</th>\n",
       "      <th>umweltplakette</th>\n",
       "      <th>klimatisierung</th>\n",
       "      <th>einparkhilfe</th>\n",
       "      <th>airbags</th>\n",
       "      <th>innenausstattung</th>\n",
       "      <th>ausstattung</th>\n",
       "    </tr>\n",
       "  </thead>\n",
       "  <tbody>\n",
       "    <tr>\n",
       "      <th>0</th>\n",
       "      <td>Volkswagen</td>\n",
       "      <td>Golf</td>\n",
       "      <td>9.797 €</td>\n",
       "      <td>79.449 km</td>\n",
       "      <td>04/2011</td>\n",
       "      <td>Benzin</td>\n",
       "      <td>Schaltgetriebe</td>\n",
       "      <td>63 kW (86 PS)</td>\n",
       "      <td>1.197 cm³</td>\n",
       "      <td>Neu</td>\n",
       "      <td>4720.0</td>\n",
       "      <td>Weiß</td>\n",
       "      <td>NaN</td>\n",
       "      <td>Limousine</td>\n",
       "      <td>5.0</td>\n",
       "      <td>4/5</td>\n",
       "      <td>Euro5</td>\n",
       "      <td>4 (Grün)</td>\n",
       "      <td>Klimaautomatik</td>\n",
       "      <td>Vorne, Hinten, Selbstlenkende Systeme</td>\n",
       "      <td>Front-, Seiten- und weitere Airbags</td>\n",
       "      <td>Alcantara, Schwarz</td>\n",
       "      <td>ABS,Alarmanlage,Armlehne,Bordcomputer,CD-Spiel...</td>\n",
       "    </tr>\n",
       "    <tr>\n",
       "      <th>1</th>\n",
       "      <td>Volkswagen</td>\n",
       "      <td>Golf</td>\n",
       "      <td>13.890 €</td>\n",
       "      <td>76.486 km</td>\n",
       "      <td>01/2015</td>\n",
       "      <td>Benzin, E10-geeignet</td>\n",
       "      <td>Schaltgetriebe</td>\n",
       "      <td>92 kW (125 PS)</td>\n",
       "      <td>1.395 cm³</td>\n",
       "      <td>Neu</td>\n",
       "      <td>13088.0</td>\n",
       "      <td>Schwarz Metallic</td>\n",
       "      <td>2.0</td>\n",
       "      <td>Limousine</td>\n",
       "      <td>5.0</td>\n",
       "      <td>4/5</td>\n",
       "      <td>Euro6</td>\n",
       "      <td>4 (Grün)</td>\n",
       "      <td>2-Zonen-Klimaautomatik</td>\n",
       "      <td>Hinten</td>\n",
       "      <td>Front-, Seiten- und weitere Airbags</td>\n",
       "      <td>Stoff, Schwarz</td>\n",
       "      <td>ABS,Ambiente-Beleuchtung,Armlehne,Berganfahras...</td>\n",
       "    </tr>\n",
       "    <tr>\n",
       "      <th>2</th>\n",
       "      <td>Mercedes-Benz</td>\n",
       "      <td>SLK 300</td>\n",
       "      <td>19.990 €</td>\n",
       "      <td>84.000 km</td>\n",
       "      <td>07/2009</td>\n",
       "      <td>Benzin</td>\n",
       "      <td>Automatik</td>\n",
       "      <td>170 kW (231 PS)</td>\n",
       "      <td>2.997 cm³</td>\n",
       "      <td>08/2023</td>\n",
       "      <td>42285.0</td>\n",
       "      <td>Schwarz Metallic</td>\n",
       "      <td>3.0</td>\n",
       "      <td>Cabrio / Roadster</td>\n",
       "      <td>2.0</td>\n",
       "      <td>2/3</td>\n",
       "      <td>Euro5</td>\n",
       "      <td>4 (Grün)</td>\n",
       "      <td>Klimaautomatik</td>\n",
       "      <td>Vorne, Hinten</td>\n",
       "      <td>Front- und Seiten-Airbags</td>\n",
       "      <td>Vollleder, Schwarz</td>\n",
       "      <td>ABS,Armlehne,Berganfahrassistent,Bi-Xenon Sche...</td>\n",
       "    </tr>\n",
       "    <tr>\n",
       "      <th>3</th>\n",
       "      <td>Mercedes-Benz</td>\n",
       "      <td>SLK 350</td>\n",
       "      <td>19.990 €</td>\n",
       "      <td>84.000 km</td>\n",
       "      <td>07/2009</td>\n",
       "      <td>Benzin</td>\n",
       "      <td>Automatik</td>\n",
       "      <td>170 kW (231 PS)</td>\n",
       "      <td>2.997 cm³</td>\n",
       "      <td>08/2023</td>\n",
       "      <td>42285.0</td>\n",
       "      <td>Schwarz Metallic</td>\n",
       "      <td>3.0</td>\n",
       "      <td>Cabrio / Roadster</td>\n",
       "      <td>2.0</td>\n",
       "      <td>2/3</td>\n",
       "      <td>Euro5</td>\n",
       "      <td>4 (Grün)</td>\n",
       "      <td>Klimaautomatik</td>\n",
       "      <td>Vorne, Hinten</td>\n",
       "      <td>Front- und Seiten-Airbags</td>\n",
       "      <td>Vollleder, Schwarz</td>\n",
       "      <td>ABS,Armlehne,Berganfahrassistent,Bi-Xenon Sche...</td>\n",
       "    </tr>\n",
       "    <tr>\n",
       "      <th>4</th>\n",
       "      <td>Mercedes-Benz</td>\n",
       "      <td>A 220</td>\n",
       "      <td>17.450 €</td>\n",
       "      <td>109.252 km</td>\n",
       "      <td>12/2012</td>\n",
       "      <td>Diesel</td>\n",
       "      <td>Automatik</td>\n",
       "      <td>125 kW (170 PS)</td>\n",
       "      <td>2.143 cm³</td>\n",
       "      <td>Neu</td>\n",
       "      <td>53879.0</td>\n",
       "      <td>Silber Metallic</td>\n",
       "      <td>2.0</td>\n",
       "      <td>Limousine</td>\n",
       "      <td>5.0</td>\n",
       "      <td>4/5</td>\n",
       "      <td>Euro6</td>\n",
       "      <td>4 (Grün)</td>\n",
       "      <td>Klimaanlage</td>\n",
       "      <td>Vorne, Hinten, Kamera, Selbstlenkende Systeme</td>\n",
       "      <td>Front-, Seiten- und weitere Airbags</td>\n",
       "      <td>Stoff, Schwarz</td>\n",
       "      <td>ABS,Abstandswarner,Armlehne,Berganfahrassisten...</td>\n",
       "    </tr>\n",
       "  </tbody>\n",
       "</table>\n",
       "</div>"
      ],
      "text/plain": [
       "           marke   modell     preis   kilometer erstzulassung  \\\n",
       "0     Volkswagen     Golf   9.797 €   79.449 km       04/2011   \n",
       "1     Volkswagen     Golf  13.890 €   76.486 km       01/2015   \n",
       "2  Mercedes-Benz  SLK 300  19.990 €   84.000 km       07/2009   \n",
       "3  Mercedes-Benz  SLK 350  19.990 €   84.000 km       07/2009   \n",
       "4  Mercedes-Benz    A 220  17.450 €  109.252 km       12/2012   \n",
       "\n",
       "          kraftstoffart        getriebe         leistung    hubraum       hu  \\\n",
       "0                Benzin  Schaltgetriebe    63 kW (86 PS)  1.197 cm³      Neu   \n",
       "1  Benzin, E10-geeignet  Schaltgetriebe   92 kW (125 PS)  1.395 cm³      Neu   \n",
       "2                Benzin       Automatik  170 kW (231 PS)  2.997 cm³  08/2023   \n",
       "3                Benzin       Automatik  170 kW (231 PS)  2.997 cm³  08/2023   \n",
       "4                Diesel       Automatik  125 kW (170 PS)  2.143 cm³      Neu   \n",
       "\n",
       "       plz             farbe  anzahlderFahrzeughalter          kategorie  \\\n",
       "0   4720.0              Weiß                      NaN          Limousine   \n",
       "1  13088.0  Schwarz Metallic                      2.0          Limousine   \n",
       "2  42285.0  Schwarz Metallic                      3.0  Cabrio / Roadster   \n",
       "3  42285.0  Schwarz Metallic                      3.0  Cabrio / Roadster   \n",
       "4  53879.0   Silber Metallic                      2.0          Limousine   \n",
       "\n",
       "   anzahlSitzplaetze anzahlderTueren schadstoffklasse umweltplakette  \\\n",
       "0                5.0             4/5            Euro5       4 (Grün)   \n",
       "1                5.0             4/5            Euro6       4 (Grün)   \n",
       "2                2.0             2/3            Euro5       4 (Grün)   \n",
       "3                2.0             2/3            Euro5       4 (Grün)   \n",
       "4                5.0             4/5            Euro6       4 (Grün)   \n",
       "\n",
       "           klimatisierung                                   einparkhilfe  \\\n",
       "0          Klimaautomatik          Vorne, Hinten, Selbstlenkende Systeme   \n",
       "1  2-Zonen-Klimaautomatik                                         Hinten   \n",
       "2          Klimaautomatik                                  Vorne, Hinten   \n",
       "3          Klimaautomatik                                  Vorne, Hinten   \n",
       "4             Klimaanlage  Vorne, Hinten, Kamera, Selbstlenkende Systeme   \n",
       "\n",
       "                               airbags    innenausstattung  \\\n",
       "0  Front-, Seiten- und weitere Airbags  Alcantara, Schwarz   \n",
       "1  Front-, Seiten- und weitere Airbags      Stoff, Schwarz   \n",
       "2            Front- und Seiten-Airbags  Vollleder, Schwarz   \n",
       "3            Front- und Seiten-Airbags  Vollleder, Schwarz   \n",
       "4  Front-, Seiten- und weitere Airbags      Stoff, Schwarz   \n",
       "\n",
       "                                         ausstattung  \n",
       "0  ABS,Alarmanlage,Armlehne,Bordcomputer,CD-Spiel...  \n",
       "1  ABS,Ambiente-Beleuchtung,Armlehne,Berganfahras...  \n",
       "2  ABS,Armlehne,Berganfahrassistent,Bi-Xenon Sche...  \n",
       "3  ABS,Armlehne,Berganfahrassistent,Bi-Xenon Sche...  \n",
       "4  ABS,Abstandswarner,Armlehne,Berganfahrassisten...  "
      ]
     },
     "execution_count": 32,
     "metadata": {},
     "output_type": "execute_result"
    }
   ],
   "source": [
    "df = pd.read_csv('./uebung/cars.csv', index_col=0)\n",
    "df.drop(['Unnamed: 23'], axis=1, inplace=True)\n",
    "df.head()"
   ]
  },
  {
   "cell_type": "markdown",
   "metadata": {},
   "source": [
    "***"
   ]
  },
  {
   "cell_type": "markdown",
   "metadata": {},
   "source": [
    "### 2) (L) Sortiere nach `Marken` und lasse dir die `Anzahl an Autos` ausgeben die dieser Marke entsprechen"
   ]
  },
  {
   "cell_type": "code",
   "execution_count": 33,
   "metadata": {},
   "outputs": [
    {
     "data": {
      "text/plain": [
       "marke\n",
       "Alfa Romeo          2\n",
       "Audi              999\n",
       "BMW               942\n",
       "Chevrolet           2\n",
       "Corvette            1\n",
       "Cupra               7\n",
       "Dacia               2\n",
       "Dodge               2\n",
       "Ferrari             2\n",
       "Fiat                1\n",
       "Ford               45\n",
       "Hyundai             2\n",
       "Isuzu               1\n",
       "Iveco               2\n",
       "Jaguar              1\n",
       "Jeep                8\n",
       "Kia                 9\n",
       "Lancia              1\n",
       "Land Rover          2\n",
       "Ligier              1\n",
       "MINI                5\n",
       "Mazda               4\n",
       "Mercedes-Benz    1081\n",
       "Morgan              1\n",
       "Nissan              2\n",
       "Opel               19\n",
       "Peugeot             3\n",
       "Porsche             8\n",
       "Renault             3\n",
       "Rolls-Royce         1\n",
       "Rover               1\n",
       "Seat               22\n",
       "Skoda              24\n",
       "Smart               6\n",
       "Subaru              4\n",
       "Suzuki              3\n",
       "Toyota              1\n",
       "Volkswagen       6307\n",
       "Volvo              14\n",
       "dtype: int64"
      ]
     },
     "execution_count": 33,
     "metadata": {},
     "output_type": "execute_result"
    }
   ],
   "source": [
    "ser_grouped1 = df.groupby(\"marke\").size()\n",
    "ser_grouped1"
   ]
  },
  {
   "cell_type": "markdown",
   "metadata": {},
   "source": [
    "***"
   ]
  },
  {
   "cell_type": "markdown",
   "metadata": {},
   "source": [
    "### 3) (L) Wieviele Land Rover enthält das `Series` von Aufgabe 2?\n",
    "##### Ablesen zählt nicht, es geht um die Übung ;-)"
   ]
  },
  {
   "cell_type": "code",
   "execution_count": 34,
   "metadata": {},
   "outputs": [
    {
     "data": {
      "text/plain": [
       "2"
      ]
     },
     "execution_count": 34,
     "metadata": {},
     "output_type": "execute_result"
    }
   ],
   "source": [
    "ser_grouped1.loc['Land Rover']"
   ]
  },
  {
   "cell_type": "markdown",
   "metadata": {},
   "source": [
    "***"
   ]
  },
  {
   "cell_type": "markdown",
   "metadata": {},
   "source": [
    "### 3) (L) Wieviele unterschiedliche Marken befinden sich in dem `DataFrame` ?"
   ]
  },
  {
   "cell_type": "code",
   "execution_count": 35,
   "metadata": {},
   "outputs": [
    {
     "data": {
      "text/plain": [
       "39"
      ]
     },
     "execution_count": 35,
     "metadata": {},
     "output_type": "execute_result"
    }
   ],
   "source": [
    "len(df.groupby(\"marke\").size().index)"
   ]
  },
  {
   "cell_type": "markdown",
   "metadata": {},
   "source": [
    "***"
   ]
  },
  {
   "cell_type": "markdown",
   "metadata": {},
   "source": [
    "### 4) (S) Sortiere nach `Marke` und `Modell` und lasse dir `pro Modell die Anzahl` ausgeben"
   ]
  },
  {
   "cell_type": "code",
   "execution_count": 36,
   "metadata": {},
   "outputs": [],
   "source": [
    "ser_grouped2 = df.groupby(['marke', 'modell']).modell.count()"
   ]
  },
  {
   "cell_type": "code",
   "execution_count": 37,
   "metadata": {},
   "outputs": [
    {
     "data": {
      "text/plain": [
       "marke       modell    \n",
       "Alfa Romeo  Giulietta       2\n",
       "Audi        A1              7\n",
       "            A3            449\n",
       "            A4            460\n",
       "            A4 Allroad      1\n",
       "                         ... \n",
       "Volvo       S90             1\n",
       "            V60             4\n",
       "            V90             1\n",
       "            XC60            6\n",
       "            XC90            1\n",
       "Name: modell, Length: 273, dtype: int64"
      ]
     },
     "execution_count": 37,
     "metadata": {},
     "output_type": "execute_result"
    }
   ],
   "source": [
    "ser_grouped2"
   ]
  },
  {
   "cell_type": "markdown",
   "metadata": {},
   "source": [
    "***"
   ]
  },
  {
   "cell_type": "markdown",
   "metadata": {},
   "source": [
    "### 5) (L) Lasse dir aus der `Series` von Aufgabe 4 `alle Modelle` der Marke `BMW` anzeigen."
   ]
  },
  {
   "cell_type": "code",
   "execution_count": 38,
   "metadata": {},
   "outputs": [
    {
     "data": {
      "text/plain": [
       "modell\n",
       "116                    1\n",
       "118                    7\n",
       "120                    2\n",
       "125                    1\n",
       "216                    1\n",
       "218                    2\n",
       "218 Active Tourer      1\n",
       "218 Gran Tourer        1\n",
       "220                    1\n",
       "316                    1\n",
       "318                    1\n",
       "320                  448\n",
       "325                    3\n",
       "328                    1\n",
       "330                    3\n",
       "330 Gran Turismo       1\n",
       "335                    1\n",
       "420                    4\n",
       "428                    1\n",
       "430                    1\n",
       "435 Gran Coupé         1\n",
       "440                    1\n",
       "520                    3\n",
       "525                    1\n",
       "528                    1\n",
       "530                  431\n",
       "545                    3\n",
       "550                    1\n",
       "640 Gran Coupé         1\n",
       "650 Gran Coupé         1\n",
       "740                    1\n",
       "M135                   1\n",
       "M3                     2\n",
       "M4                     1\n",
       "M550                   1\n",
       "X1                     1\n",
       "X2                     3\n",
       "X3                     1\n",
       "X5                     1\n",
       "X6                     1\n",
       "Z4                     2\n",
       "iX                     1\n",
       "Name: modell, dtype: int64"
      ]
     },
     "execution_count": 38,
     "metadata": {},
     "output_type": "execute_result"
    }
   ],
   "source": [
    "ser_grouped2.loc['BMW']"
   ]
  },
  {
   "cell_type": "markdown",
   "metadata": {},
   "source": [
    "***"
   ]
  },
  {
   "cell_type": "markdown",
   "metadata": {},
   "source": [
    "### 6) (L) Lasse dir aus der `Series` von Aufabe 4 die Anzahl aller `BMW 320` `Modelle` ausgeben"
   ]
  },
  {
   "cell_type": "code",
   "execution_count": 43,
   "metadata": {},
   "outputs": [
    {
     "data": {
      "text/plain": [
       "448"
      ]
     },
     "execution_count": 43,
     "metadata": {},
     "output_type": "execute_result"
    }
   ],
   "source": [
    "ser_grouped2.loc['BMW', '320']"
   ]
  },
  {
   "cell_type": "markdown",
   "metadata": {},
   "source": [
    "***"
   ]
  },
  {
   "cell_type": "markdown",
   "metadata": {},
   "source": [
    "### 7) (S) Erstelle `DataFrame` mit Multi-Index: `Index1 = marke`, `Index2 = modell`. Verwende zudem die Funktion `.agg` um dir die `Anzahl pro Modell` in eine Spalte speichern zu können"
   ]
  },
  {
   "cell_type": "code",
   "execution_count": 44,
   "metadata": {},
   "outputs": [
    {
     "data": {
      "text/html": [
       "<div>\n",
       "<style scoped>\n",
       "    .dataframe tbody tr th:only-of-type {\n",
       "        vertical-align: middle;\n",
       "    }\n",
       "\n",
       "    .dataframe tbody tr th {\n",
       "        vertical-align: top;\n",
       "    }\n",
       "\n",
       "    .dataframe thead th {\n",
       "        text-align: right;\n",
       "    }\n",
       "</style>\n",
       "<table border=\"1\" class=\"dataframe\">\n",
       "  <thead>\n",
       "    <tr style=\"text-align: right;\">\n",
       "      <th></th>\n",
       "      <th></th>\n",
       "      <th>len</th>\n",
       "    </tr>\n",
       "    <tr>\n",
       "      <th>marke</th>\n",
       "      <th>modell</th>\n",
       "      <th></th>\n",
       "    </tr>\n",
       "  </thead>\n",
       "  <tbody>\n",
       "    <tr>\n",
       "      <th>Alfa Romeo</th>\n",
       "      <th>Giulietta</th>\n",
       "      <td>2</td>\n",
       "    </tr>\n",
       "    <tr>\n",
       "      <th rowspan=\"4\" valign=\"top\">Audi</th>\n",
       "      <th>A1</th>\n",
       "      <td>7</td>\n",
       "    </tr>\n",
       "    <tr>\n",
       "      <th>A3</th>\n",
       "      <td>449</td>\n",
       "    </tr>\n",
       "    <tr>\n",
       "      <th>A4</th>\n",
       "      <td>460</td>\n",
       "    </tr>\n",
       "    <tr>\n",
       "      <th>A4 Allroad</th>\n",
       "      <td>1</td>\n",
       "    </tr>\n",
       "    <tr>\n",
       "      <th>...</th>\n",
       "      <th>...</th>\n",
       "      <td>...</td>\n",
       "    </tr>\n",
       "    <tr>\n",
       "      <th rowspan=\"5\" valign=\"top\">Volvo</th>\n",
       "      <th>S90</th>\n",
       "      <td>1</td>\n",
       "    </tr>\n",
       "    <tr>\n",
       "      <th>V60</th>\n",
       "      <td>4</td>\n",
       "    </tr>\n",
       "    <tr>\n",
       "      <th>V90</th>\n",
       "      <td>1</td>\n",
       "    </tr>\n",
       "    <tr>\n",
       "      <th>XC60</th>\n",
       "      <td>6</td>\n",
       "    </tr>\n",
       "    <tr>\n",
       "      <th>XC90</th>\n",
       "      <td>1</td>\n",
       "    </tr>\n",
       "  </tbody>\n",
       "</table>\n",
       "<p>273 rows × 1 columns</p>\n",
       "</div>"
      ],
      "text/plain": [
       "                       len\n",
       "marke      modell         \n",
       "Alfa Romeo Giulietta     2\n",
       "Audi       A1            7\n",
       "           A3          449\n",
       "           A4          460\n",
       "           A4 Allroad    1\n",
       "...                    ...\n",
       "Volvo      S90           1\n",
       "           V60           4\n",
       "           V90           1\n",
       "           XC60          6\n",
       "           XC90          1\n",
       "\n",
       "[273 rows x 1 columns]"
      ]
     },
     "execution_count": 44,
     "metadata": {},
     "output_type": "execute_result"
    }
   ],
   "source": [
    "df_grouped = df.groupby(['marke', 'modell']).modell.agg([len])\n",
    "df_grouped"
   ]
  },
  {
   "cell_type": "markdown",
   "metadata": {},
   "source": [
    "***"
   ]
  },
  {
   "cell_type": "markdown",
   "metadata": {},
   "source": [
    "### 8) (S): Lasse dir aus dem in Aufgabe 7 erstellten `Dataframe` `alle Modelle` der Marke `Volkswagen`, `nach der Häufigkeit absteigend sortiert` ausgeben"
   ]
  },
  {
   "cell_type": "code",
   "execution_count": 49,
   "metadata": {},
   "outputs": [
    {
     "data": {
      "text/html": [
       "<div>\n",
       "<style scoped>\n",
       "    .dataframe tbody tr th:only-of-type {\n",
       "        vertical-align: middle;\n",
       "    }\n",
       "\n",
       "    .dataframe tbody tr th {\n",
       "        vertical-align: top;\n",
       "    }\n",
       "\n",
       "    .dataframe thead th {\n",
       "        text-align: right;\n",
       "    }\n",
       "</style>\n",
       "<table border=\"1\" class=\"dataframe\">\n",
       "  <thead>\n",
       "    <tr style=\"text-align: right;\">\n",
       "      <th></th>\n",
       "      <th>len</th>\n",
       "    </tr>\n",
       "    <tr>\n",
       "      <th>modell</th>\n",
       "      <th></th>\n",
       "    </tr>\n",
       "  </thead>\n",
       "  <tbody>\n",
       "    <tr>\n",
       "      <th>Golf</th>\n",
       "      <td>3476</td>\n",
       "    </tr>\n",
       "    <tr>\n",
       "      <th>Passat Variant</th>\n",
       "      <td>469</td>\n",
       "    </tr>\n",
       "    <tr>\n",
       "      <th>Sharan</th>\n",
       "      <td>451</td>\n",
       "    </tr>\n",
       "    <tr>\n",
       "      <th>Caddy</th>\n",
       "      <td>446</td>\n",
       "    </tr>\n",
       "    <tr>\n",
       "      <th>Beetle</th>\n",
       "      <td>433</td>\n",
       "    </tr>\n",
       "    <tr>\n",
       "      <th>CC</th>\n",
       "      <td>433</td>\n",
       "    </tr>\n",
       "    <tr>\n",
       "      <th>T5 Transporter</th>\n",
       "      <td>433</td>\n",
       "    </tr>\n",
       "    <tr>\n",
       "      <th>Tiguan</th>\n",
       "      <td>48</td>\n",
       "    </tr>\n",
       "    <tr>\n",
       "      <th>Touran</th>\n",
       "      <td>25</td>\n",
       "    </tr>\n",
       "    <tr>\n",
       "      <th>T-Roc</th>\n",
       "      <td>13</td>\n",
       "    </tr>\n",
       "    <tr>\n",
       "      <th>Passat</th>\n",
       "      <td>12</td>\n",
       "    </tr>\n",
       "    <tr>\n",
       "      <th>Scirocco</th>\n",
       "      <td>9</td>\n",
       "    </tr>\n",
       "    <tr>\n",
       "      <th>Touareg</th>\n",
       "      <td>8</td>\n",
       "    </tr>\n",
       "    <tr>\n",
       "      <th>T5 Multivan</th>\n",
       "      <td>8</td>\n",
       "    </tr>\n",
       "    <tr>\n",
       "      <th>Arteon</th>\n",
       "      <td>7</td>\n",
       "    </tr>\n",
       "    <tr>\n",
       "      <th>Eos</th>\n",
       "      <td>6</td>\n",
       "    </tr>\n",
       "    <tr>\n",
       "      <th>Golf Sportsvan</th>\n",
       "      <td>6</td>\n",
       "    </tr>\n",
       "    <tr>\n",
       "      <th>Amarok</th>\n",
       "      <td>5</td>\n",
       "    </tr>\n",
       "    <tr>\n",
       "      <th>Polo</th>\n",
       "      <td>5</td>\n",
       "    </tr>\n",
       "    <tr>\n",
       "      <th>T6 Multivan</th>\n",
       "      <td>3</td>\n",
       "    </tr>\n",
       "    <tr>\n",
       "      <th>Passat Alltrack</th>\n",
       "      <td>3</td>\n",
       "    </tr>\n",
       "    <tr>\n",
       "      <th>Phaeton</th>\n",
       "      <td>3</td>\n",
       "    </tr>\n",
       "    <tr>\n",
       "      <th>Crafter</th>\n",
       "      <td>2</td>\n",
       "    </tr>\n",
       "    <tr>\n",
       "      <th>T5 Caravelle</th>\n",
       "      <td>1</td>\n",
       "    </tr>\n",
       "    <tr>\n",
       "      <th>Passat CC</th>\n",
       "      <td>1</td>\n",
       "    </tr>\n",
       "    <tr>\n",
       "      <th>Tiguan Allspace</th>\n",
       "      <td>1</td>\n",
       "    </tr>\n",
       "  </tbody>\n",
       "</table>\n",
       "</div>"
      ],
      "text/plain": [
       "                  len\n",
       "modell               \n",
       "Golf             3476\n",
       "Passat Variant    469\n",
       "Sharan            451\n",
       "Caddy             446\n",
       "Beetle            433\n",
       "CC                433\n",
       "T5 Transporter    433\n",
       "Tiguan             48\n",
       "Touran             25\n",
       "T-Roc              13\n",
       "Passat             12\n",
       "Scirocco            9\n",
       "Touareg             8\n",
       "T5 Multivan         8\n",
       "Arteon              7\n",
       "Eos                 6\n",
       "Golf Sportsvan      6\n",
       "Amarok              5\n",
       "Polo                5\n",
       "T6 Multivan         3\n",
       "Passat Alltrack     3\n",
       "Phaeton             3\n",
       "Crafter             2\n",
       "T5 Caravelle        1\n",
       "Passat CC           1\n",
       "Tiguan Allspace     1"
      ]
     },
     "execution_count": 49,
     "metadata": {},
     "output_type": "execute_result"
    }
   ],
   "source": [
    "df_grouped.loc['Volkswagen'].sort_values(by=['len'], ascending=False)"
   ]
  },
  {
   "cell_type": "code",
   "execution_count": null,
   "metadata": {},
   "outputs": [],
   "source": []
  }
 ],
 "metadata": {
  "kernelspec": {
   "display_name": "Python 3",
   "language": "python",
   "name": "python3"
  },
  "language_info": {
   "codemirror_mode": {
    "name": "ipython",
    "version": 3
   },
   "file_extension": ".py",
   "mimetype": "text/x-python",
   "name": "python",
   "nbconvert_exporter": "python",
   "pygments_lexer": "ipython3",
   "version": "3.7.6"
  }
 },
 "nbformat": 4,
 "nbformat_minor": 4
}
